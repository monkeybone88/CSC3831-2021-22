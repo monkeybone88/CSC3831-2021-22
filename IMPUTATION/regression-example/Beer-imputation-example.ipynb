{
 "cells": [
  {
   "cell_type": "markdown",
   "metadata": {
    "id": "7GUVfYihFeJI"
   },
   "source": [
    "# Example of multivariate imputation using a linear regression model\n",
    "#### Here is the original [source](https://www.kaggle.com/residentmario/simple-techniques-for-missing-data-imputation) for the example"
   ]
  },
  {
   "cell_type": "code",
   "execution_count": 5,
   "metadata": {
    "executionInfo": {
     "elapsed": 1064,
     "status": "ok",
     "timestamp": 1635866269168,
     "user": {
      "displayName": "Paolo Missier",
      "photoUrl": "https://lh3.googleusercontent.com/a-/AOh14Ggcc2TXNOmjMRwVVYvhyQe5KcOE45NLW7tO1c1RPd4=s64",
      "userId": "11873010985329943372"
     },
     "user_tz": 0
    },
    "id": "FiNW8MeLOWu5"
   },
   "outputs": [],
   "source": [
    "import missingno as msno ## specific python lib to analyse missingness"
   ]
  },
  {
   "cell_type": "code",
   "execution_count": 6,
   "metadata": {
    "executionInfo": {
     "elapsed": 947,
     "status": "ok",
     "timestamp": 1635865521511,
     "user": {
      "displayName": "Paolo Missier",
      "photoUrl": "https://lh3.googleusercontent.com/a-/AOh14Ggcc2TXNOmjMRwVVYvhyQe5KcOE45NLW7tO1c1RPd4=s64",
      "userId": "11873010985329943372"
     },
     "user_tz": 0
    },
    "id": "5cIwcny8FeJL"
   },
   "outputs": [],
   "source": [
    "import pandas as pd\n",
    "pd.set_option('max_columns', None)\n",
    "df = pd.read_csv(\"https://raw.githubusercontent.com/PaoloMissier/CSC3831-2021-22/main/IMPUTATION/BEERS-dataset/recipeData.csv\", na_values = ['N/A'], encoding='latin-1').set_index(\"BeerID\")"
   ]
  },
  {
   "cell_type": "code",
   "execution_count": 7,
   "metadata": {
    "colab": {
     "base_uri": "https://localhost:8080/"
    },
    "executionInfo": {
     "elapsed": 234,
     "status": "ok",
     "timestamp": 1635865524011,
     "user": {
      "displayName": "Paolo Missier",
      "photoUrl": "https://lh3.googleusercontent.com/a-/AOh14Ggcc2TXNOmjMRwVVYvhyQe5KcOE45NLW7tO1c1RPd4=s64",
      "userId": "11873010985329943372"
     },
     "user_tz": 0
    },
    "id": "a0XzlRVQFeJM",
    "outputId": "811fc56b-5ff7-4f7d-9793-9d47615cc43b"
   },
   "outputs": [
    {
     "data": {
      "text/plain": [
       "Index(['Name', 'URL', 'Style', 'StyleID', 'Size(L)', 'OG', 'FG', 'ABV', 'IBU',\n",
       "       'Color', 'BoilSize', 'BoilTime', 'BoilGravity', 'Efficiency',\n",
       "       'MashThickness', 'SugarScale', 'BrewMethod', 'PitchRate', 'PrimaryTemp',\n",
       "       'PrimingMethod', 'PrimingAmount', 'UserId'],\n",
       "      dtype='object')"
      ]
     },
     "execution_count": 7,
     "metadata": {},
     "output_type": "execute_result"
    }
   ],
   "source": [
    "df.columns"
   ]
  },
  {
   "cell_type": "markdown",
   "metadata": {
    "id": "Hh626hfwPjCs"
   },
   "source": [
    "## part I: analysing missingness"
   ]
  },
  {
   "cell_type": "code",
   "execution_count": 8,
   "metadata": {
    "colab": {
     "base_uri": "https://localhost:8080/",
     "height": 1000
    },
    "executionInfo": {
     "elapsed": 265,
     "status": "ok",
     "timestamp": 1635865525774,
     "user": {
      "displayName": "Paolo Missier",
      "photoUrl": "https://lh3.googleusercontent.com/a-/AOh14Ggcc2TXNOmjMRwVVYvhyQe5KcOE45NLW7tO1c1RPd4=s64",
      "userId": "11873010985329943372"
     },
     "user_tz": 0
    },
    "id": "8uc8DED-FeJO",
    "outputId": "35e48839-9a36-4cdb-eb3f-438ee9256101"
   },
   "outputs": [
    {
     "data": {
      "text/html": [
       "<div>\n",
       "<style scoped>\n",
       "    .dataframe tbody tr th:only-of-type {\n",
       "        vertical-align: middle;\n",
       "    }\n",
       "\n",
       "    .dataframe tbody tr th {\n",
       "        vertical-align: top;\n",
       "    }\n",
       "\n",
       "    .dataframe thead th {\n",
       "        text-align: right;\n",
       "    }\n",
       "</style>\n",
       "<table border=\"1\" class=\"dataframe\">\n",
       "  <thead>\n",
       "    <tr style=\"text-align: right;\">\n",
       "      <th></th>\n",
       "      <th>Name</th>\n",
       "      <th>URL</th>\n",
       "      <th>Style</th>\n",
       "      <th>StyleID</th>\n",
       "      <th>Size(L)</th>\n",
       "      <th>OG</th>\n",
       "      <th>FG</th>\n",
       "      <th>ABV</th>\n",
       "      <th>IBU</th>\n",
       "      <th>Color</th>\n",
       "      <th>BoilSize</th>\n",
       "      <th>BoilTime</th>\n",
       "      <th>BoilGravity</th>\n",
       "      <th>Efficiency</th>\n",
       "      <th>MashThickness</th>\n",
       "      <th>SugarScale</th>\n",
       "      <th>BrewMethod</th>\n",
       "      <th>PitchRate</th>\n",
       "      <th>PrimaryTemp</th>\n",
       "      <th>PrimingMethod</th>\n",
       "      <th>PrimingAmount</th>\n",
       "      <th>UserId</th>\n",
       "    </tr>\n",
       "    <tr>\n",
       "      <th>BeerID</th>\n",
       "      <th></th>\n",
       "      <th></th>\n",
       "      <th></th>\n",
       "      <th></th>\n",
       "      <th></th>\n",
       "      <th></th>\n",
       "      <th></th>\n",
       "      <th></th>\n",
       "      <th></th>\n",
       "      <th></th>\n",
       "      <th></th>\n",
       "      <th></th>\n",
       "      <th></th>\n",
       "      <th></th>\n",
       "      <th></th>\n",
       "      <th></th>\n",
       "      <th></th>\n",
       "      <th></th>\n",
       "      <th></th>\n",
       "      <th></th>\n",
       "      <th></th>\n",
       "      <th></th>\n",
       "    </tr>\n",
       "  </thead>\n",
       "  <tbody>\n",
       "    <tr>\n",
       "      <th>1</th>\n",
       "      <td>Vanilla Cream Ale</td>\n",
       "      <td>/homebrew/recipe/view/1633/vanilla-cream-ale</td>\n",
       "      <td>Cream Ale</td>\n",
       "      <td>45</td>\n",
       "      <td>21.77</td>\n",
       "      <td>1.0550</td>\n",
       "      <td>1.0130</td>\n",
       "      <td>5.48</td>\n",
       "      <td>17.65</td>\n",
       "      <td>4.83</td>\n",
       "      <td>28.39</td>\n",
       "      <td>75</td>\n",
       "      <td>1.038</td>\n",
       "      <td>70.0</td>\n",
       "      <td>NaN</td>\n",
       "      <td>Specific Gravity</td>\n",
       "      <td>All Grain</td>\n",
       "      <td>NaN</td>\n",
       "      <td>17.78</td>\n",
       "      <td>corn sugar</td>\n",
       "      <td>4.5 oz</td>\n",
       "      <td>116.0</td>\n",
       "    </tr>\n",
       "    <tr>\n",
       "      <th>2</th>\n",
       "      <td>Southern Tier Pumking clone</td>\n",
       "      <td>/homebrew/recipe/view/16367/southern-tier-pumk...</td>\n",
       "      <td>Holiday/Winter Special Spiced Beer</td>\n",
       "      <td>85</td>\n",
       "      <td>20.82</td>\n",
       "      <td>1.0830</td>\n",
       "      <td>1.0210</td>\n",
       "      <td>8.16</td>\n",
       "      <td>60.65</td>\n",
       "      <td>15.64</td>\n",
       "      <td>24.61</td>\n",
       "      <td>60</td>\n",
       "      <td>1.070</td>\n",
       "      <td>70.0</td>\n",
       "      <td>NaN</td>\n",
       "      <td>Specific Gravity</td>\n",
       "      <td>All Grain</td>\n",
       "      <td>NaN</td>\n",
       "      <td>NaN</td>\n",
       "      <td>NaN</td>\n",
       "      <td>NaN</td>\n",
       "      <td>955.0</td>\n",
       "    </tr>\n",
       "    <tr>\n",
       "      <th>3</th>\n",
       "      <td>Zombie Dust Clone - EXTRACT</td>\n",
       "      <td>/homebrew/recipe/view/5920/zombie-dust-clone-e...</td>\n",
       "      <td>American IPA</td>\n",
       "      <td>7</td>\n",
       "      <td>18.93</td>\n",
       "      <td>1.0630</td>\n",
       "      <td>1.0180</td>\n",
       "      <td>5.91</td>\n",
       "      <td>59.25</td>\n",
       "      <td>8.98</td>\n",
       "      <td>22.71</td>\n",
       "      <td>60</td>\n",
       "      <td>NaN</td>\n",
       "      <td>70.0</td>\n",
       "      <td>NaN</td>\n",
       "      <td>Specific Gravity</td>\n",
       "      <td>extract</td>\n",
       "      <td>NaN</td>\n",
       "      <td>NaN</td>\n",
       "      <td>NaN</td>\n",
       "      <td>NaN</td>\n",
       "      <td>NaN</td>\n",
       "    </tr>\n",
       "    <tr>\n",
       "      <th>4</th>\n",
       "      <td>Zombie Dust Clone - ALL GRAIN</td>\n",
       "      <td>/homebrew/recipe/view/5916/zombie-dust-clone-a...</td>\n",
       "      <td>American IPA</td>\n",
       "      <td>7</td>\n",
       "      <td>22.71</td>\n",
       "      <td>1.0610</td>\n",
       "      <td>1.0170</td>\n",
       "      <td>5.80</td>\n",
       "      <td>54.48</td>\n",
       "      <td>8.50</td>\n",
       "      <td>26.50</td>\n",
       "      <td>60</td>\n",
       "      <td>NaN</td>\n",
       "      <td>70.0</td>\n",
       "      <td>NaN</td>\n",
       "      <td>Specific Gravity</td>\n",
       "      <td>All Grain</td>\n",
       "      <td>NaN</td>\n",
       "      <td>NaN</td>\n",
       "      <td>NaN</td>\n",
       "      <td>NaN</td>\n",
       "      <td>NaN</td>\n",
       "    </tr>\n",
       "    <tr>\n",
       "      <th>5</th>\n",
       "      <td>Bakke Brygg Belgisk Blonde 50 l</td>\n",
       "      <td>/homebrew/recipe/view/89534/bakke-brygg-belgis...</td>\n",
       "      <td>Belgian Blond Ale</td>\n",
       "      <td>20</td>\n",
       "      <td>50.00</td>\n",
       "      <td>1.0600</td>\n",
       "      <td>1.0100</td>\n",
       "      <td>6.48</td>\n",
       "      <td>17.84</td>\n",
       "      <td>4.57</td>\n",
       "      <td>60.00</td>\n",
       "      <td>90</td>\n",
       "      <td>1.050</td>\n",
       "      <td>72.0</td>\n",
       "      <td>NaN</td>\n",
       "      <td>Specific Gravity</td>\n",
       "      <td>All Grain</td>\n",
       "      <td>NaN</td>\n",
       "      <td>19.00</td>\n",
       "      <td>Sukkerlake</td>\n",
       "      <td>6-7 g sukker/l</td>\n",
       "      <td>18325.0</td>\n",
       "    </tr>\n",
       "    <tr>\n",
       "      <th>6</th>\n",
       "      <td>Sierra Nevada Pale Ale Clone</td>\n",
       "      <td>/homebrew/recipe/view/28546/sierra-nevada-pale...</td>\n",
       "      <td>American Pale Ale</td>\n",
       "      <td>10</td>\n",
       "      <td>24.61</td>\n",
       "      <td>1.0550</td>\n",
       "      <td>1.0130</td>\n",
       "      <td>5.58</td>\n",
       "      <td>40.12</td>\n",
       "      <td>8.00</td>\n",
       "      <td>29.34</td>\n",
       "      <td>70</td>\n",
       "      <td>1.047</td>\n",
       "      <td>79.0</td>\n",
       "      <td>NaN</td>\n",
       "      <td>Specific Gravity</td>\n",
       "      <td>All Grain</td>\n",
       "      <td>1.00</td>\n",
       "      <td>NaN</td>\n",
       "      <td>NaN</td>\n",
       "      <td>NaN</td>\n",
       "      <td>5889.0</td>\n",
       "    </tr>\n",
       "    <tr>\n",
       "      <th>7</th>\n",
       "      <td>Russian River Pliny the Elder (original)</td>\n",
       "      <td>/homebrew/recipe/view/37534/russian-river-plin...</td>\n",
       "      <td>Imperial IPA</td>\n",
       "      <td>86</td>\n",
       "      <td>22.71</td>\n",
       "      <td>1.0720</td>\n",
       "      <td>1.0180</td>\n",
       "      <td>7.09</td>\n",
       "      <td>268.71</td>\n",
       "      <td>6.33</td>\n",
       "      <td>30.28</td>\n",
       "      <td>90</td>\n",
       "      <td>NaN</td>\n",
       "      <td>75.0</td>\n",
       "      <td>NaN</td>\n",
       "      <td>Specific Gravity</td>\n",
       "      <td>All Grain</td>\n",
       "      <td>NaN</td>\n",
       "      <td>NaN</td>\n",
       "      <td>NaN</td>\n",
       "      <td>NaN</td>\n",
       "      <td>1051.0</td>\n",
       "    </tr>\n",
       "    <tr>\n",
       "      <th>8</th>\n",
       "      <td>Spotted Clown (New Glarus Spotted Cow clone)</td>\n",
       "      <td>/homebrew/recipe/view/672/spotted-clown-new-gl...</td>\n",
       "      <td>Cream Ale</td>\n",
       "      <td>45</td>\n",
       "      <td>20.82</td>\n",
       "      <td>1.0540</td>\n",
       "      <td>1.0140</td>\n",
       "      <td>5.36</td>\n",
       "      <td>19.97</td>\n",
       "      <td>5.94</td>\n",
       "      <td>28.39</td>\n",
       "      <td>75</td>\n",
       "      <td>1.040</td>\n",
       "      <td>70.0</td>\n",
       "      <td>1.40</td>\n",
       "      <td>Specific Gravity</td>\n",
       "      <td>All Grain</td>\n",
       "      <td>NaN</td>\n",
       "      <td>NaN</td>\n",
       "      <td>corn sugar</td>\n",
       "      <td>4.2 oz</td>\n",
       "      <td>116.0</td>\n",
       "    </tr>\n",
       "    <tr>\n",
       "      <th>9</th>\n",
       "      <td>Chocolate Vanilla Porter</td>\n",
       "      <td>/homebrew/recipe/view/29265/chocolate-vanilla-...</td>\n",
       "      <td>Robust Porter</td>\n",
       "      <td>129</td>\n",
       "      <td>22.71</td>\n",
       "      <td>1.0600</td>\n",
       "      <td>1.0160</td>\n",
       "      <td>5.77</td>\n",
       "      <td>31.63</td>\n",
       "      <td>34.76</td>\n",
       "      <td>30.28</td>\n",
       "      <td>75</td>\n",
       "      <td>1.042</td>\n",
       "      <td>73.0</td>\n",
       "      <td>NaN</td>\n",
       "      <td>Specific Gravity</td>\n",
       "      <td>All Grain</td>\n",
       "      <td>NaN</td>\n",
       "      <td>NaN</td>\n",
       "      <td>corn sugar</td>\n",
       "      <td>4 oz</td>\n",
       "      <td>116.0</td>\n",
       "    </tr>\n",
       "    <tr>\n",
       "      <th>10</th>\n",
       "      <td>Mango Habanero IPA</td>\n",
       "      <td>/homebrew/recipe/view/61082/mango-habanero-ipa</td>\n",
       "      <td>Imperial IPA</td>\n",
       "      <td>86</td>\n",
       "      <td>20.82</td>\n",
       "      <td>1.0800</td>\n",
       "      <td>1.0170</td>\n",
       "      <td>8.22</td>\n",
       "      <td>93.02</td>\n",
       "      <td>8.29</td>\n",
       "      <td>28.39</td>\n",
       "      <td>60</td>\n",
       "      <td>1.058</td>\n",
       "      <td>70.0</td>\n",
       "      <td>NaN</td>\n",
       "      <td>Specific Gravity</td>\n",
       "      <td>All Grain</td>\n",
       "      <td>NaN</td>\n",
       "      <td>21.11</td>\n",
       "      <td>Corn Sugar</td>\n",
       "      <td>4.6 oz / .66 C</td>\n",
       "      <td>NaN</td>\n",
       "    </tr>\n",
       "    <tr>\n",
       "      <th>11</th>\n",
       "      <td>Bakke Brygg HveteIPA 25 L</td>\n",
       "      <td>/homebrew/recipe/view/73890/bakke-brygg-hvetei...</td>\n",
       "      <td>American IPA</td>\n",
       "      <td>7</td>\n",
       "      <td>25.00</td>\n",
       "      <td>1.0640</td>\n",
       "      <td>1.0140</td>\n",
       "      <td>6.63</td>\n",
       "      <td>64.26</td>\n",
       "      <td>7.78</td>\n",
       "      <td>29.00</td>\n",
       "      <td>90</td>\n",
       "      <td>1.055</td>\n",
       "      <td>74.0</td>\n",
       "      <td>NaN</td>\n",
       "      <td>Specific Gravity</td>\n",
       "      <td>All Grain</td>\n",
       "      <td>1.00</td>\n",
       "      <td>18.00</td>\n",
       "      <td>Sukkerlake</td>\n",
       "      <td>6 5 g sukker/L</td>\n",
       "      <td>18325.0</td>\n",
       "    </tr>\n",
       "    <tr>\n",
       "      <th>12</th>\n",
       "      <td>Hop Notch Clone</td>\n",
       "      <td>/homebrew/recipe/view/10092/hop-notch-clone</td>\n",
       "      <td>American IPA</td>\n",
       "      <td>7</td>\n",
       "      <td>15.14</td>\n",
       "      <td>1.0660</td>\n",
       "      <td>1.0150</td>\n",
       "      <td>6.62</td>\n",
       "      <td>111.00</td>\n",
       "      <td>14.26</td>\n",
       "      <td>11.36</td>\n",
       "      <td>90</td>\n",
       "      <td>NaN</td>\n",
       "      <td>70.0</td>\n",
       "      <td>NaN</td>\n",
       "      <td>Specific Gravity</td>\n",
       "      <td>BIAB</td>\n",
       "      <td>NaN</td>\n",
       "      <td>NaN</td>\n",
       "      <td>NaN</td>\n",
       "      <td>NaN</td>\n",
       "      <td>NaN</td>\n",
       "    </tr>\n",
       "    <tr>\n",
       "      <th>13</th>\n",
       "      <td>Racer 5 IPA Clone</td>\n",
       "      <td>/homebrew/recipe/view/23246/racer-5-ipa-clone</td>\n",
       "      <td>American IPA</td>\n",
       "      <td>7</td>\n",
       "      <td>20.82</td>\n",
       "      <td>1.0730</td>\n",
       "      <td>1.0190</td>\n",
       "      <td>7.07</td>\n",
       "      <td>69.72</td>\n",
       "      <td>6.28</td>\n",
       "      <td>28.39</td>\n",
       "      <td>60</td>\n",
       "      <td>NaN</td>\n",
       "      <td>70.0</td>\n",
       "      <td>NaN</td>\n",
       "      <td>Specific Gravity</td>\n",
       "      <td>All Grain</td>\n",
       "      <td>NaN</td>\n",
       "      <td>NaN</td>\n",
       "      <td>NaN</td>\n",
       "      <td>NaN</td>\n",
       "      <td>NaN</td>\n",
       "    </tr>\n",
       "    <tr>\n",
       "      <th>14</th>\n",
       "      <td>Sam Adams Rebel IPA Clone</td>\n",
       "      <td>/homebrew/recipe/view/106996/sam-adams-rebel-i...</td>\n",
       "      <td>American IPA</td>\n",
       "      <td>7</td>\n",
       "      <td>18.93</td>\n",
       "      <td>1.0660</td>\n",
       "      <td>1.0170</td>\n",
       "      <td>6.51</td>\n",
       "      <td>60.96</td>\n",
       "      <td>10.54</td>\n",
       "      <td>11.36</td>\n",
       "      <td>60</td>\n",
       "      <td>1.110</td>\n",
       "      <td>30.0</td>\n",
       "      <td>NaN</td>\n",
       "      <td>Specific Gravity</td>\n",
       "      <td>extract</td>\n",
       "      <td>0.35</td>\n",
       "      <td>18.33</td>\n",
       "      <td>NaN</td>\n",
       "      <td>NaN</td>\n",
       "      <td>23595.0</td>\n",
       "    </tr>\n",
       "    <tr>\n",
       "      <th>15</th>\n",
       "      <td>White IPA</td>\n",
       "      <td>/homebrew/recipe/view/8361/white-ipa</td>\n",
       "      <td>American IPA</td>\n",
       "      <td>7</td>\n",
       "      <td>37.85</td>\n",
       "      <td>1.0640</td>\n",
       "      <td>1.0170</td>\n",
       "      <td>6.20</td>\n",
       "      <td>64.67</td>\n",
       "      <td>3.91</td>\n",
       "      <td>34.07</td>\n",
       "      <td>60</td>\n",
       "      <td>1.071</td>\n",
       "      <td>70.0</td>\n",
       "      <td>1.20</td>\n",
       "      <td>Specific Gravity</td>\n",
       "      <td>All Grain</td>\n",
       "      <td>NaN</td>\n",
       "      <td>NaN</td>\n",
       "      <td>NaN</td>\n",
       "      <td>NaN</td>\n",
       "      <td>NaN</td>\n",
       "    </tr>\n",
       "    <tr>\n",
       "      <th>16</th>\n",
       "      <td>Pilsner Urquell BYO clone</td>\n",
       "      <td>/homebrew/recipe/view/3000/pilsner-urquell-byo...</td>\n",
       "      <td>Bohemian Pilsener</td>\n",
       "      <td>31</td>\n",
       "      <td>41.64</td>\n",
       "      <td>1.0510</td>\n",
       "      <td>1.0130</td>\n",
       "      <td>4.92</td>\n",
       "      <td>36.80</td>\n",
       "      <td>3.61</td>\n",
       "      <td>49.21</td>\n",
       "      <td>60</td>\n",
       "      <td>NaN</td>\n",
       "      <td>75.0</td>\n",
       "      <td>NaN</td>\n",
       "      <td>Specific Gravity</td>\n",
       "      <td>All Grain</td>\n",
       "      <td>NaN</td>\n",
       "      <td>NaN</td>\n",
       "      <td>NaN</td>\n",
       "      <td>NaN</td>\n",
       "      <td>NaN</td>\n",
       "    </tr>\n",
       "    <tr>\n",
       "      <th>17</th>\n",
       "      <td>Tank 7 Clone</td>\n",
       "      <td>/homebrew/recipe/view/23436/tank-7-clone</td>\n",
       "      <td>Saison</td>\n",
       "      <td>134</td>\n",
       "      <td>20.82</td>\n",
       "      <td>1.0730</td>\n",
       "      <td>1.0150</td>\n",
       "      <td>7.63</td>\n",
       "      <td>44.94</td>\n",
       "      <td>6.25</td>\n",
       "      <td>28.39</td>\n",
       "      <td>60</td>\n",
       "      <td>1.054</td>\n",
       "      <td>70.0</td>\n",
       "      <td>NaN</td>\n",
       "      <td>Specific Gravity</td>\n",
       "      <td>BIAB</td>\n",
       "      <td>NaN</td>\n",
       "      <td>NaN</td>\n",
       "      <td>Corn Sugar</td>\n",
       "      <td>4oz</td>\n",
       "      <td>5100.0</td>\n",
       "    </tr>\n",
       "    <tr>\n",
       "      <th>18</th>\n",
       "      <td>Bells two hearted clone</td>\n",
       "      <td>/homebrew/recipe/view/3837/bells-two-hearted-c...</td>\n",
       "      <td>American IPA</td>\n",
       "      <td>7</td>\n",
       "      <td>20.82</td>\n",
       "      <td>1.0730</td>\n",
       "      <td>1.0180</td>\n",
       "      <td>7.14</td>\n",
       "      <td>61.83</td>\n",
       "      <td>8.10</td>\n",
       "      <td>24.61</td>\n",
       "      <td>60</td>\n",
       "      <td>1.061</td>\n",
       "      <td>75.0</td>\n",
       "      <td>NaN</td>\n",
       "      <td>Specific Gravity</td>\n",
       "      <td>All Grain</td>\n",
       "      <td>0.75</td>\n",
       "      <td>18.33</td>\n",
       "      <td>NaN</td>\n",
       "      <td>NaN</td>\n",
       "      <td>955.0</td>\n",
       "    </tr>\n",
       "    <tr>\n",
       "      <th>19</th>\n",
       "      <td>New Glarus Fat Squirrel Clone</td>\n",
       "      <td>/homebrew/recipe/view/1435/new-glarus-fat-squi...</td>\n",
       "      <td>Northern English Brown</td>\n",
       "      <td>113</td>\n",
       "      <td>20.82</td>\n",
       "      <td>1.0460</td>\n",
       "      <td>1.0100</td>\n",
       "      <td>4.61</td>\n",
       "      <td>13.64</td>\n",
       "      <td>12.56</td>\n",
       "      <td>28.39</td>\n",
       "      <td>90</td>\n",
       "      <td>1.033</td>\n",
       "      <td>70.0</td>\n",
       "      <td>NaN</td>\n",
       "      <td>Specific Gravity</td>\n",
       "      <td>All Grain</td>\n",
       "      <td>NaN</td>\n",
       "      <td>16.67</td>\n",
       "      <td>Priming Sugar</td>\n",
       "      <td>Std (5 Oz.)</td>\n",
       "      <td>NaN</td>\n",
       "    </tr>\n",
       "    <tr>\n",
       "      <th>20</th>\n",
       "      <td>Avg. Perfect Northeast IPA (NEIPA)</td>\n",
       "      <td>/homebrew/recipe/view/363082/avg-perfect-north...</td>\n",
       "      <td>American IPA</td>\n",
       "      <td>7</td>\n",
       "      <td>21.77</td>\n",
       "      <td>1.0620</td>\n",
       "      <td>1.0130</td>\n",
       "      <td>6.50</td>\n",
       "      <td>53.30</td>\n",
       "      <td>5.20</td>\n",
       "      <td>28.39</td>\n",
       "      <td>60</td>\n",
       "      <td>1.048</td>\n",
       "      <td>70.0</td>\n",
       "      <td>1.25</td>\n",
       "      <td>Specific Gravity</td>\n",
       "      <td>All Grain</td>\n",
       "      <td>NaN</td>\n",
       "      <td>NaN</td>\n",
       "      <td>Keg - Force Carb.</td>\n",
       "      <td>NaN</td>\n",
       "      <td>NaN</td>\n",
       "    </tr>\n",
       "    <tr>\n",
       "      <th>21</th>\n",
       "      <td>Goose Island IPA Clone</td>\n",
       "      <td>/homebrew/recipe/view/28343/goose-island-ipa-c...</td>\n",
       "      <td>English IPA</td>\n",
       "      <td>65</td>\n",
       "      <td>20.82</td>\n",
       "      <td>1.0650</td>\n",
       "      <td>1.0150</td>\n",
       "      <td>6.63</td>\n",
       "      <td>55.52</td>\n",
       "      <td>9.47</td>\n",
       "      <td>28.39</td>\n",
       "      <td>60</td>\n",
       "      <td>1.048</td>\n",
       "      <td>75.0</td>\n",
       "      <td>1.50</td>\n",
       "      <td>Specific Gravity</td>\n",
       "      <td>All Grain</td>\n",
       "      <td>NaN</td>\n",
       "      <td>17.78</td>\n",
       "      <td>NaN</td>\n",
       "      <td>NaN</td>\n",
       "      <td>5889.0</td>\n",
       "    </tr>\n",
       "    <tr>\n",
       "      <th>22</th>\n",
       "      <td>Ballast Point Sculpin Ale Clone</td>\n",
       "      <td>/homebrew/recipe/view/89253/ballast-point-scul...</td>\n",
       "      <td>Imperial IPA</td>\n",
       "      <td>86</td>\n",
       "      <td>45.42</td>\n",
       "      <td>1.0840</td>\n",
       "      <td>1.0200</td>\n",
       "      <td>8.43</td>\n",
       "      <td>79.28</td>\n",
       "      <td>6.26</td>\n",
       "      <td>51.10</td>\n",
       "      <td>60</td>\n",
       "      <td>1.075</td>\n",
       "      <td>90.0</td>\n",
       "      <td>1.25</td>\n",
       "      <td>Specific Gravity</td>\n",
       "      <td>All Grain</td>\n",
       "      <td>1.00</td>\n",
       "      <td>20.56</td>\n",
       "      <td>NaN</td>\n",
       "      <td>NaN</td>\n",
       "      <td>20984.0</td>\n",
       "    </tr>\n",
       "    <tr>\n",
       "      <th>23</th>\n",
       "      <td>Brooklyn Sorachi Ace</td>\n",
       "      <td>/homebrew/recipe/view/190892/brooklyn-sorachi-ace</td>\n",
       "      <td>Saison</td>\n",
       "      <td>134</td>\n",
       "      <td>18.93</td>\n",
       "      <td>1.0820</td>\n",
       "      <td>1.0130</td>\n",
       "      <td>9.10</td>\n",
       "      <td>0.00</td>\n",
       "      <td>4.10</td>\n",
       "      <td>21.58</td>\n",
       "      <td>60</td>\n",
       "      <td>NaN</td>\n",
       "      <td>72.0</td>\n",
       "      <td>NaN</td>\n",
       "      <td>Specific Gravity</td>\n",
       "      <td>All Grain</td>\n",
       "      <td>NaN</td>\n",
       "      <td>NaN</td>\n",
       "      <td>NaN</td>\n",
       "      <td>NaN</td>\n",
       "      <td>NaN</td>\n",
       "    </tr>\n",
       "    <tr>\n",
       "      <th>24</th>\n",
       "      <td>Lagunitas IPA Clone</td>\n",
       "      <td>/homebrew/recipe/view/28344/lagunitas-ipa-clone</td>\n",
       "      <td>English IPA</td>\n",
       "      <td>65</td>\n",
       "      <td>20.82</td>\n",
       "      <td>1.0610</td>\n",
       "      <td>1.0140</td>\n",
       "      <td>6.17</td>\n",
       "      <td>56.65</td>\n",
       "      <td>5.85</td>\n",
       "      <td>28.39</td>\n",
       "      <td>60</td>\n",
       "      <td>1.045</td>\n",
       "      <td>75.0</td>\n",
       "      <td>NaN</td>\n",
       "      <td>Specific Gravity</td>\n",
       "      <td>All Grain</td>\n",
       "      <td>NaN</td>\n",
       "      <td>NaN</td>\n",
       "      <td>NaN</td>\n",
       "      <td>NaN</td>\n",
       "      <td>5889.0</td>\n",
       "    </tr>\n",
       "    <tr>\n",
       "      <th>25</th>\n",
       "      <td>NEIPA Hoppy ( juicy) -  Braumeister 20L</td>\n",
       "      <td>/homebrew/recipe/view/295897/neipa-hoppy-juicy...</td>\n",
       "      <td>American IPA</td>\n",
       "      <td>7</td>\n",
       "      <td>21.00</td>\n",
       "      <td>1.0620</td>\n",
       "      <td>1.0140</td>\n",
       "      <td>6.29</td>\n",
       "      <td>53.57</td>\n",
       "      <td>5.21</td>\n",
       "      <td>25.00</td>\n",
       "      <td>70</td>\n",
       "      <td>1.052</td>\n",
       "      <td>73.0</td>\n",
       "      <td>NaN</td>\n",
       "      <td>Specific Gravity</td>\n",
       "      <td>BIAB</td>\n",
       "      <td>0.75</td>\n",
       "      <td>20.00</td>\n",
       "      <td>NaN</td>\n",
       "      <td>NaN</td>\n",
       "      <td>54364.0</td>\n",
       "    </tr>\n",
       "    <tr>\n",
       "      <th>26</th>\n",
       "      <td>Dale's Pale Ale Clone</td>\n",
       "      <td>/homebrew/recipe/view/190430/dale-s-pale-ale-c...</td>\n",
       "      <td>American Pale Ale</td>\n",
       "      <td>10</td>\n",
       "      <td>18.93</td>\n",
       "      <td>1.0670</td>\n",
       "      <td>1.0170</td>\n",
       "      <td>6.60</td>\n",
       "      <td>0.00</td>\n",
       "      <td>11.69</td>\n",
       "      <td>18.93</td>\n",
       "      <td>60</td>\n",
       "      <td>NaN</td>\n",
       "      <td>75.0</td>\n",
       "      <td>NaN</td>\n",
       "      <td>Specific Gravity</td>\n",
       "      <td>All Grain</td>\n",
       "      <td>NaN</td>\n",
       "      <td>NaN</td>\n",
       "      <td>NaN</td>\n",
       "      <td>NaN</td>\n",
       "      <td>NaN</td>\n",
       "    </tr>\n",
       "    <tr>\n",
       "      <th>27</th>\n",
       "      <td>IPA - Tired Hands Milkshake</td>\n",
       "      <td>/homebrew/recipe/view/392896/ipa-tired-hands-m...</td>\n",
       "      <td>American IPA</td>\n",
       "      <td>7</td>\n",
       "      <td>24.61</td>\n",
       "      <td>1.0580</td>\n",
       "      <td>1.0170</td>\n",
       "      <td>5.34</td>\n",
       "      <td>57.84</td>\n",
       "      <td>3.98</td>\n",
       "      <td>28.39</td>\n",
       "      <td>60</td>\n",
       "      <td>1.050</td>\n",
       "      <td>83.0</td>\n",
       "      <td>NaN</td>\n",
       "      <td>Specific Gravity</td>\n",
       "      <td>BIAB</td>\n",
       "      <td>0.50</td>\n",
       "      <td>18.33</td>\n",
       "      <td>NaN</td>\n",
       "      <td>NaN</td>\n",
       "      <td>16332.0</td>\n",
       "    </tr>\n",
       "    <tr>\n",
       "      <th>28</th>\n",
       "      <td>Bakke Brygg Julelager 20 l</td>\n",
       "      <td>/homebrew/recipe/view/73376/bakke-brygg-julela...</td>\n",
       "      <td>Traditional Bock</td>\n",
       "      <td>163</td>\n",
       "      <td>20.00</td>\n",
       "      <td>1.0650</td>\n",
       "      <td>1.0180</td>\n",
       "      <td>6.22</td>\n",
       "      <td>27.12</td>\n",
       "      <td>16.66</td>\n",
       "      <td>25.00</td>\n",
       "      <td>90</td>\n",
       "      <td>1.052</td>\n",
       "      <td>70.0</td>\n",
       "      <td>NaN</td>\n",
       "      <td>Specific Gravity</td>\n",
       "      <td>All Grain</td>\n",
       "      <td>NaN</td>\n",
       "      <td>10.00</td>\n",
       "      <td>Sukkerlake</td>\n",
       "      <td>6 gram sukker pr l</td>\n",
       "      <td>18325.0</td>\n",
       "    </tr>\n",
       "    <tr>\n",
       "      <th>29</th>\n",
       "      <td>Grapefruit IPA</td>\n",
       "      <td>/homebrew/recipe/view/35541/grapefruit-ipa</td>\n",
       "      <td>American IPA</td>\n",
       "      <td>7</td>\n",
       "      <td>26.50</td>\n",
       "      <td>1.0520</td>\n",
       "      <td>1.0120</td>\n",
       "      <td>5.31</td>\n",
       "      <td>60.58</td>\n",
       "      <td>5.82</td>\n",
       "      <td>32.18</td>\n",
       "      <td>60</td>\n",
       "      <td>1.043</td>\n",
       "      <td>70.0</td>\n",
       "      <td>1.30</td>\n",
       "      <td>Specific Gravity</td>\n",
       "      <td>All Grain</td>\n",
       "      <td>0.75</td>\n",
       "      <td>20.56</td>\n",
       "      <td>NaN</td>\n",
       "      <td>NaN</td>\n",
       "      <td>NaN</td>\n",
       "    </tr>\n",
       "    <tr>\n",
       "      <th>30</th>\n",
       "      <td>Bakke Brygg Robust Porter 50 l</td>\n",
       "      <td>/homebrew/recipe/view/73679/bakke-brygg-robust...</td>\n",
       "      <td>Robust Porter</td>\n",
       "      <td>129</td>\n",
       "      <td>50.00</td>\n",
       "      <td>1.0580</td>\n",
       "      <td>1.0140</td>\n",
       "      <td>5.76</td>\n",
       "      <td>39.00</td>\n",
       "      <td>38.71</td>\n",
       "      <td>58.00</td>\n",
       "      <td>60</td>\n",
       "      <td>1.050</td>\n",
       "      <td>71.0</td>\n",
       "      <td>NaN</td>\n",
       "      <td>Specific Gravity</td>\n",
       "      <td>All Grain</td>\n",
       "      <td>NaN</td>\n",
       "      <td>18.00</td>\n",
       "      <td>Sukkerlake</td>\n",
       "      <td>5 5 g sukker/l</td>\n",
       "      <td>18325.0</td>\n",
       "    </tr>\n",
       "    <tr>\n",
       "      <th>31</th>\n",
       "      <td>Heineken Lager Clone</td>\n",
       "      <td>/homebrew/recipe/view/209608/heineken-lager-clone</td>\n",
       "      <td>Premium American Lager</td>\n",
       "      <td>124</td>\n",
       "      <td>48.00</td>\n",
       "      <td>1.0490</td>\n",
       "      <td>1.0080</td>\n",
       "      <td>5.41</td>\n",
       "      <td>24.28</td>\n",
       "      <td>3.30</td>\n",
       "      <td>60.00</td>\n",
       "      <td>90</td>\n",
       "      <td>1.039</td>\n",
       "      <td>75.0</td>\n",
       "      <td>2.50</td>\n",
       "      <td>Specific Gravity</td>\n",
       "      <td>All Grain</td>\n",
       "      <td>1.50</td>\n",
       "      <td>11.00</td>\n",
       "      <td>NaN</td>\n",
       "      <td>NaN</td>\n",
       "      <td>40623.0</td>\n",
       "    </tr>\n",
       "    <tr>\n",
       "      <th>32</th>\n",
       "      <td>Mosaic IPA</td>\n",
       "      <td>/homebrew/recipe/view/191545/mosaic-ipa</td>\n",
       "      <td>American IPA</td>\n",
       "      <td>7</td>\n",
       "      <td>18.93</td>\n",
       "      <td>1.0740</td>\n",
       "      <td>1.0180</td>\n",
       "      <td>7.24</td>\n",
       "      <td>0.00</td>\n",
       "      <td>7.68</td>\n",
       "      <td>22.71</td>\n",
       "      <td>60</td>\n",
       "      <td>NaN</td>\n",
       "      <td>75.0</td>\n",
       "      <td>NaN</td>\n",
       "      <td>Specific Gravity</td>\n",
       "      <td>All Grain</td>\n",
       "      <td>NaN</td>\n",
       "      <td>NaN</td>\n",
       "      <td>NaN</td>\n",
       "      <td>NaN</td>\n",
       "      <td>35054.0</td>\n",
       "    </tr>\n",
       "    <tr>\n",
       "      <th>33</th>\n",
       "      <td>New England IPA</td>\n",
       "      <td>/homebrew/recipe/view/425217/new-england-ipa</td>\n",
       "      <td>American IPA</td>\n",
       "      <td>7</td>\n",
       "      <td>19.87</td>\n",
       "      <td>1.0710</td>\n",
       "      <td>1.0180</td>\n",
       "      <td>6.93</td>\n",
       "      <td>68.91</td>\n",
       "      <td>6.82</td>\n",
       "      <td>28.39</td>\n",
       "      <td>60</td>\n",
       "      <td>1.050</td>\n",
       "      <td>72.0</td>\n",
       "      <td>1.50</td>\n",
       "      <td>Specific Gravity</td>\n",
       "      <td>All Grain</td>\n",
       "      <td>1.00</td>\n",
       "      <td>20.00</td>\n",
       "      <td>NaN</td>\n",
       "      <td>NaN</td>\n",
       "      <td>25649.0</td>\n",
       "    </tr>\n",
       "    <tr>\n",
       "      <th>34</th>\n",
       "      <td>Tree House Julius Clone</td>\n",
       "      <td>/homebrew/recipe/view/401540/tree-house-julius...</td>\n",
       "      <td>American IPA</td>\n",
       "      <td>7</td>\n",
       "      <td>20.82</td>\n",
       "      <td>1.0650</td>\n",
       "      <td>1.0180</td>\n",
       "      <td>6.26</td>\n",
       "      <td>89.61</td>\n",
       "      <td>6.93</td>\n",
       "      <td>28.39</td>\n",
       "      <td>60</td>\n",
       "      <td>1.045</td>\n",
       "      <td>70.0</td>\n",
       "      <td>1.32</td>\n",
       "      <td>Specific Gravity</td>\n",
       "      <td>All Grain</td>\n",
       "      <td>0.50</td>\n",
       "      <td>20.56</td>\n",
       "      <td>NaN</td>\n",
       "      <td>NaN</td>\n",
       "      <td>NaN</td>\n",
       "    </tr>\n",
       "    <tr>\n",
       "      <th>35</th>\n",
       "      <td>Breck Vanilla Porter Clone</td>\n",
       "      <td>/homebrew/recipe/view/189477/breck-vanilla-por...</td>\n",
       "      <td>Robust Porter</td>\n",
       "      <td>129</td>\n",
       "      <td>22.71</td>\n",
       "      <td>1.0530</td>\n",
       "      <td>1.0120</td>\n",
       "      <td>5.38</td>\n",
       "      <td>0.00</td>\n",
       "      <td>46.10</td>\n",
       "      <td>31.95</td>\n",
       "      <td>60</td>\n",
       "      <td>NaN</td>\n",
       "      <td>72.0</td>\n",
       "      <td>NaN</td>\n",
       "      <td>Specific Gravity</td>\n",
       "      <td>All Grain</td>\n",
       "      <td>NaN</td>\n",
       "      <td>NaN</td>\n",
       "      <td>NaN</td>\n",
       "      <td>NaN</td>\n",
       "      <td>NaN</td>\n",
       "    </tr>\n",
       "    <tr>\n",
       "      <th>36</th>\n",
       "      <td>The Devil is in the Details (Duvel Clone)...</td>\n",
       "      <td>/homebrew/recipe/view/61925/the-devil-is-in-th...</td>\n",
       "      <td>Belgian Golden Strong Ale</td>\n",
       "      <td>23</td>\n",
       "      <td>41.64</td>\n",
       "      <td>1.0690</td>\n",
       "      <td>1.0050</td>\n",
       "      <td>8.40</td>\n",
       "      <td>40.71</td>\n",
       "      <td>3.11</td>\n",
       "      <td>49.21</td>\n",
       "      <td>90</td>\n",
       "      <td>1.058</td>\n",
       "      <td>80.0</td>\n",
       "      <td>1.50</td>\n",
       "      <td>Specific Gravity</td>\n",
       "      <td>All Grain</td>\n",
       "      <td>1.00</td>\n",
       "      <td>17.78</td>\n",
       "      <td>Force Carb</td>\n",
       "      <td>30 PSI</td>\n",
       "      <td>15241.0</td>\n",
       "    </tr>\n",
       "    <tr>\n",
       "      <th>37</th>\n",
       "      <td>Cascade Pale Ale</td>\n",
       "      <td>/homebrew/recipe/view/3984/cascade-pale-ale</td>\n",
       "      <td>American Pale Ale</td>\n",
       "      <td>10</td>\n",
       "      <td>20.82</td>\n",
       "      <td>1.0490</td>\n",
       "      <td>1.0090</td>\n",
       "      <td>5.24</td>\n",
       "      <td>40.86</td>\n",
       "      <td>3.79</td>\n",
       "      <td>26.50</td>\n",
       "      <td>60</td>\n",
       "      <td>NaN</td>\n",
       "      <td>75.0</td>\n",
       "      <td>NaN</td>\n",
       "      <td>Specific Gravity</td>\n",
       "      <td>All Grain</td>\n",
       "      <td>NaN</td>\n",
       "      <td>NaN</td>\n",
       "      <td>NaN</td>\n",
       "      <td>NaN</td>\n",
       "      <td>NaN</td>\n",
       "    </tr>\n",
       "    <tr>\n",
       "      <th>38</th>\n",
       "      <td>Brewdog Punk IPA clone</td>\n",
       "      <td>/homebrew/recipe/view/272331/brewdog-punk-ipa-...</td>\n",
       "      <td>American IPA</td>\n",
       "      <td>7</td>\n",
       "      <td>46.00</td>\n",
       "      <td>13.9618</td>\n",
       "      <td>3.4853</td>\n",
       "      <td>5.65</td>\n",
       "      <td>37.62</td>\n",
       "      <td>4.96</td>\n",
       "      <td>55.00</td>\n",
       "      <td>90</td>\n",
       "      <td>11.800</td>\n",
       "      <td>75.0</td>\n",
       "      <td>3.30</td>\n",
       "      <td>Plato</td>\n",
       "      <td>All Grain</td>\n",
       "      <td>1.00</td>\n",
       "      <td>18.00</td>\n",
       "      <td>Force carb</td>\n",
       "      <td>NaN</td>\n",
       "      <td>NaN</td>\n",
       "    </tr>\n",
       "    <tr>\n",
       "      <th>39</th>\n",
       "      <td>Rochefort 8 Clone</td>\n",
       "      <td>/homebrew/recipe/view/188995/rochefort-8-clone</td>\n",
       "      <td>NaN</td>\n",
       "      <td>111</td>\n",
       "      <td>18.93</td>\n",
       "      <td>1.0790</td>\n",
       "      <td>1.0190</td>\n",
       "      <td>7.90</td>\n",
       "      <td>0.00</td>\n",
       "      <td>29.40</td>\n",
       "      <td>24.26</td>\n",
       "      <td>60</td>\n",
       "      <td>NaN</td>\n",
       "      <td>65.0</td>\n",
       "      <td>NaN</td>\n",
       "      <td>Specific Gravity</td>\n",
       "      <td>All Grain</td>\n",
       "      <td>NaN</td>\n",
       "      <td>NaN</td>\n",
       "      <td>NaN</td>\n",
       "      <td>NaN</td>\n",
       "      <td>NaN</td>\n",
       "    </tr>\n",
       "    <tr>\n",
       "      <th>40</th>\n",
       "      <td>Trillium Inspired Pale Ale Clone</td>\n",
       "      <td>/homebrew/recipe/view/322780/trillium-inspired...</td>\n",
       "      <td>Double IPA</td>\n",
       "      <td>56</td>\n",
       "      <td>20.82</td>\n",
       "      <td>1.0700</td>\n",
       "      <td>1.0150</td>\n",
       "      <td>7.22</td>\n",
       "      <td>78.14</td>\n",
       "      <td>5.67</td>\n",
       "      <td>26.50</td>\n",
       "      <td>60</td>\n",
       "      <td>1.050</td>\n",
       "      <td>60.0</td>\n",
       "      <td>1.30</td>\n",
       "      <td>Specific Gravity</td>\n",
       "      <td>All Grain</td>\n",
       "      <td>1.00</td>\n",
       "      <td>17.78</td>\n",
       "      <td>Forced Carbonation</td>\n",
       "      <td>NaN</td>\n",
       "      <td>50283.0</td>\n",
       "    </tr>\n",
       "    <tr>\n",
       "      <th>41</th>\n",
       "      <td>Mango Blonde Ale v2.2</td>\n",
       "      <td>/homebrew/recipe/view/318315/mango-blonde-ale-...</td>\n",
       "      <td>Blonde Ale</td>\n",
       "      <td>30</td>\n",
       "      <td>22.71</td>\n",
       "      <td>1.0430</td>\n",
       "      <td>1.0070</td>\n",
       "      <td>4.70</td>\n",
       "      <td>19.68</td>\n",
       "      <td>3.82</td>\n",
       "      <td>28.16</td>\n",
       "      <td>90</td>\n",
       "      <td>1.035</td>\n",
       "      <td>75.0</td>\n",
       "      <td>NaN</td>\n",
       "      <td>Specific Gravity</td>\n",
       "      <td>BIAB</td>\n",
       "      <td>NaN</td>\n",
       "      <td>16.67</td>\n",
       "      <td>NaN</td>\n",
       "      <td>NaN</td>\n",
       "      <td>56565.0</td>\n",
       "    </tr>\n",
       "    <tr>\n",
       "      <th>42</th>\n",
       "      <td>Strawberry Blonde Ale</td>\n",
       "      <td>/homebrew/recipe/view/29831/strawberry-blonde-ale</td>\n",
       "      <td>Blonde Ale</td>\n",
       "      <td>30</td>\n",
       "      <td>18.93</td>\n",
       "      <td>1.0600</td>\n",
       "      <td>1.0160</td>\n",
       "      <td>5.83</td>\n",
       "      <td>27.15</td>\n",
       "      <td>5.18</td>\n",
       "      <td>13.25</td>\n",
       "      <td>60</td>\n",
       "      <td>NaN</td>\n",
       "      <td>35.0</td>\n",
       "      <td>NaN</td>\n",
       "      <td>Specific Gravity</td>\n",
       "      <td>extract</td>\n",
       "      <td>NaN</td>\n",
       "      <td>NaN</td>\n",
       "      <td>NaN</td>\n",
       "      <td>NaN</td>\n",
       "      <td>NaN</td>\n",
       "    </tr>\n",
       "    <tr>\n",
       "      <th>43</th>\n",
       "      <td>Vanilla Caramel Cream Ale</td>\n",
       "      <td>/homebrew/recipe/view/5314/vanilla-caramel-cre...</td>\n",
       "      <td>Cream Ale</td>\n",
       "      <td>45</td>\n",
       "      <td>18.93</td>\n",
       "      <td>1.0550</td>\n",
       "      <td>1.0140</td>\n",
       "      <td>5.43</td>\n",
       "      <td>33.67</td>\n",
       "      <td>10.08</td>\n",
       "      <td>15.14</td>\n",
       "      <td>60</td>\n",
       "      <td>NaN</td>\n",
       "      <td>70.0</td>\n",
       "      <td>NaN</td>\n",
       "      <td>Specific Gravity</td>\n",
       "      <td>extract</td>\n",
       "      <td>NaN</td>\n",
       "      <td>NaN</td>\n",
       "      <td>NaN</td>\n",
       "      <td>NaN</td>\n",
       "      <td>NaN</td>\n",
       "    </tr>\n",
       "    <tr>\n",
       "      <th>44</th>\n",
       "      <td>Coors Light Clone</td>\n",
       "      <td>/homebrew/recipe/view/20756/coors-light-clone</td>\n",
       "      <td>Light American Lager</td>\n",
       "      <td>100</td>\n",
       "      <td>20.82</td>\n",
       "      <td>1.0360</td>\n",
       "      <td>1.0080</td>\n",
       "      <td>3.70</td>\n",
       "      <td>29.37</td>\n",
       "      <td>2.83</td>\n",
       "      <td>11.36</td>\n",
       "      <td>60</td>\n",
       "      <td>NaN</td>\n",
       "      <td>70.0</td>\n",
       "      <td>NaN</td>\n",
       "      <td>Specific Gravity</td>\n",
       "      <td>extract</td>\n",
       "      <td>NaN</td>\n",
       "      <td>NaN</td>\n",
       "      <td>NaN</td>\n",
       "      <td>NaN</td>\n",
       "      <td>NaN</td>\n",
       "    </tr>\n",
       "    <tr>\n",
       "      <th>45</th>\n",
       "      <td>Samuel Adams - Boston Lager Clone</td>\n",
       "      <td>/homebrew/recipe/view/97267/samuel-adams-bosto...</td>\n",
       "      <td>German Pilsner (Pils)</td>\n",
       "      <td>81</td>\n",
       "      <td>20.82</td>\n",
       "      <td>1.0500</td>\n",
       "      <td>1.0130</td>\n",
       "      <td>4.93</td>\n",
       "      <td>43.66</td>\n",
       "      <td>9.89</td>\n",
       "      <td>13.25</td>\n",
       "      <td>60</td>\n",
       "      <td>1.079</td>\n",
       "      <td>70.0</td>\n",
       "      <td>NaN</td>\n",
       "      <td>Specific Gravity</td>\n",
       "      <td>Partial Mash</td>\n",
       "      <td>1.50</td>\n",
       "      <td>10.00</td>\n",
       "      <td>DME boiled in 2 cups water</td>\n",
       "      <td>6.50 oz</td>\n",
       "      <td>20681.0</td>\n",
       "    </tr>\n",
       "    <tr>\n",
       "      <th>46</th>\n",
       "      <td>Caribou Slobber (All Grain)</td>\n",
       "      <td>/homebrew/recipe/view/26901/caribou-slobber-al...</td>\n",
       "      <td>American Brown Ale</td>\n",
       "      <td>6</td>\n",
       "      <td>22.71</td>\n",
       "      <td>1.0560</td>\n",
       "      <td>1.0140</td>\n",
       "      <td>5.57</td>\n",
       "      <td>35.32</td>\n",
       "      <td>20.59</td>\n",
       "      <td>30.28</td>\n",
       "      <td>60</td>\n",
       "      <td>1.042</td>\n",
       "      <td>80.0</td>\n",
       "      <td>NaN</td>\n",
       "      <td>Specific Gravity</td>\n",
       "      <td>BIAB</td>\n",
       "      <td>1.00</td>\n",
       "      <td>19.44</td>\n",
       "      <td>NaN</td>\n",
       "      <td>NaN</td>\n",
       "      <td>5889.0</td>\n",
       "    </tr>\n",
       "    <tr>\n",
       "      <th>47</th>\n",
       "      <td>Bakke Brygg Havrestout 20 l</td>\n",
       "      <td>/homebrew/recipe/view/83229/bakke-brygg-havres...</td>\n",
       "      <td>Oatmeal Stout</td>\n",
       "      <td>114</td>\n",
       "      <td>20.00</td>\n",
       "      <td>1.0590</td>\n",
       "      <td>1.0190</td>\n",
       "      <td>5.21</td>\n",
       "      <td>37.34</td>\n",
       "      <td>42.09</td>\n",
       "      <td>24.00</td>\n",
       "      <td>90</td>\n",
       "      <td>1.049</td>\n",
       "      <td>75.0</td>\n",
       "      <td>NaN</td>\n",
       "      <td>Specific Gravity</td>\n",
       "      <td>All Grain</td>\n",
       "      <td>NaN</td>\n",
       "      <td>19.00</td>\n",
       "      <td>Sukkerlake</td>\n",
       "      <td>5 g sukker/l</td>\n",
       "      <td>18325.0</td>\n",
       "    </tr>\n",
       "    <tr>\n",
       "      <th>48</th>\n",
       "      <td>Southern Tier Crème Brûlée Clone</td>\n",
       "      <td>/homebrew/recipe/view/5267/</td>\n",
       "      <td>Specialty Beer</td>\n",
       "      <td>145</td>\n",
       "      <td>20.82</td>\n",
       "      <td>1.0960</td>\n",
       "      <td>1.0240</td>\n",
       "      <td>9.48</td>\n",
       "      <td>112.51</td>\n",
       "      <td>40.00</td>\n",
       "      <td>11.36</td>\n",
       "      <td>60</td>\n",
       "      <td>NaN</td>\n",
       "      <td>30.0</td>\n",
       "      <td>NaN</td>\n",
       "      <td>Specific Gravity</td>\n",
       "      <td>extract</td>\n",
       "      <td>NaN</td>\n",
       "      <td>NaN</td>\n",
       "      <td>Corn Sugar</td>\n",
       "      <td>118 grams</td>\n",
       "      <td>1116.0</td>\n",
       "    </tr>\n",
       "    <tr>\n",
       "      <th>49</th>\n",
       "      <td>Nugget Nectar Clone</td>\n",
       "      <td>/homebrew/recipe/view/189197/nugget-nectar-clone</td>\n",
       "      <td>American Amber Ale</td>\n",
       "      <td>4</td>\n",
       "      <td>18.93</td>\n",
       "      <td>1.0750</td>\n",
       "      <td>1.0090</td>\n",
       "      <td>7.50</td>\n",
       "      <td>0.00</td>\n",
       "      <td>8.48</td>\n",
       "      <td>22.71</td>\n",
       "      <td>90</td>\n",
       "      <td>NaN</td>\n",
       "      <td>70.0</td>\n",
       "      <td>NaN</td>\n",
       "      <td>Specific Gravity</td>\n",
       "      <td>All Grain</td>\n",
       "      <td>NaN</td>\n",
       "      <td>NaN</td>\n",
       "      <td>NaN</td>\n",
       "      <td>NaN</td>\n",
       "      <td>NaN</td>\n",
       "    </tr>\n",
       "    <tr>\n",
       "      <th>50</th>\n",
       "      <td>Bakke Brygg Kölsch 20 l</td>\n",
       "      <td>/homebrew/recipe/view/129004/</td>\n",
       "      <td>Kölsch</td>\n",
       "      <td>94</td>\n",
       "      <td>20.00</td>\n",
       "      <td>1.0460</td>\n",
       "      <td>1.0090</td>\n",
       "      <td>4.84</td>\n",
       "      <td>23.22</td>\n",
       "      <td>2.85</td>\n",
       "      <td>25.00</td>\n",
       "      <td>90</td>\n",
       "      <td>1.037</td>\n",
       "      <td>73.0</td>\n",
       "      <td>NaN</td>\n",
       "      <td>Specific Gravity</td>\n",
       "      <td>BIAB</td>\n",
       "      <td>1.25</td>\n",
       "      <td>16.00</td>\n",
       "      <td>NaN</td>\n",
       "      <td>NaN</td>\n",
       "      <td>18325.0</td>\n",
       "    </tr>\n",
       "  </tbody>\n",
       "</table>\n",
       "</div>"
      ],
      "text/plain": [
       "                                                Name  \\\n",
       "BeerID                                                 \n",
       "1                                  Vanilla Cream Ale   \n",
       "2                        Southern Tier Pumking clone   \n",
       "3                        Zombie Dust Clone - EXTRACT   \n",
       "4                      Zombie Dust Clone - ALL GRAIN   \n",
       "5                    Bakke Brygg Belgisk Blonde 50 l   \n",
       "6                       Sierra Nevada Pale Ale Clone   \n",
       "7           Russian River Pliny the Elder (original)   \n",
       "8       Spotted Clown (New Glarus Spotted Cow clone)   \n",
       "9                           Chocolate Vanilla Porter   \n",
       "10                                Mango Habanero IPA   \n",
       "11                         Bakke Brygg HveteIPA 25 L   \n",
       "12                                   Hop Notch Clone   \n",
       "13                                 Racer 5 IPA Clone   \n",
       "14                         Sam Adams Rebel IPA Clone   \n",
       "15                                         White IPA   \n",
       "16                         Pilsner Urquell BYO clone   \n",
       "17                                      Tank 7 Clone   \n",
       "18                           Bells two hearted clone   \n",
       "19                     New Glarus Fat Squirrel Clone   \n",
       "20                Avg. Perfect Northeast IPA (NEIPA)   \n",
       "21                            Goose Island IPA Clone   \n",
       "22                   Ballast Point Sculpin Ale Clone   \n",
       "23                              Brooklyn Sorachi Ace   \n",
       "24                               Lagunitas IPA Clone   \n",
       "25           NEIPA Hoppy ( juicy) -  Braumeister 20L   \n",
       "26                             Dale's Pale Ale Clone   \n",
       "27                       IPA - Tired Hands Milkshake   \n",
       "28                        Bakke Brygg Julelager 20 l   \n",
       "29                                    Grapefruit IPA   \n",
       "30                    Bakke Brygg Robust Porter 50 l   \n",
       "31                              Heineken Lager Clone   \n",
       "32                                        Mosaic IPA   \n",
       "33                                   New England IPA   \n",
       "34                           Tree House Julius Clone   \n",
       "35                        Breck Vanilla Porter Clone   \n",
       "36      The Devil is in the Details (Duvel Clone)...   \n",
       "37                                  Cascade Pale Ale   \n",
       "38                            Brewdog Punk IPA clone   \n",
       "39                                 Rochefort 8 Clone   \n",
       "40                  Trillium Inspired Pale Ale Clone   \n",
       "41                             Mango Blonde Ale v2.2   \n",
       "42                             Strawberry Blonde Ale   \n",
       "43                         Vanilla Caramel Cream Ale   \n",
       "44                                 Coors Light Clone   \n",
       "45                 Samuel Adams - Boston Lager Clone   \n",
       "46                       Caribou Slobber (All Grain)   \n",
       "47                       Bakke Brygg Havrestout 20 l   \n",
       "48                  Southern Tier Crème Brûlée Clone   \n",
       "49                               Nugget Nectar Clone   \n",
       "50                           Bakke Brygg Kölsch 20 l   \n",
       "\n",
       "                                                      URL  \\\n",
       "BeerID                                                      \n",
       "1            /homebrew/recipe/view/1633/vanilla-cream-ale   \n",
       "2       /homebrew/recipe/view/16367/southern-tier-pumk...   \n",
       "3       /homebrew/recipe/view/5920/zombie-dust-clone-e...   \n",
       "4       /homebrew/recipe/view/5916/zombie-dust-clone-a...   \n",
       "5       /homebrew/recipe/view/89534/bakke-brygg-belgis...   \n",
       "6       /homebrew/recipe/view/28546/sierra-nevada-pale...   \n",
       "7       /homebrew/recipe/view/37534/russian-river-plin...   \n",
       "8       /homebrew/recipe/view/672/spotted-clown-new-gl...   \n",
       "9       /homebrew/recipe/view/29265/chocolate-vanilla-...   \n",
       "10         /homebrew/recipe/view/61082/mango-habanero-ipa   \n",
       "11      /homebrew/recipe/view/73890/bakke-brygg-hvetei...   \n",
       "12            /homebrew/recipe/view/10092/hop-notch-clone   \n",
       "13          /homebrew/recipe/view/23246/racer-5-ipa-clone   \n",
       "14      /homebrew/recipe/view/106996/sam-adams-rebel-i...   \n",
       "15                   /homebrew/recipe/view/8361/white-ipa   \n",
       "16      /homebrew/recipe/view/3000/pilsner-urquell-byo...   \n",
       "17               /homebrew/recipe/view/23436/tank-7-clone   \n",
       "18      /homebrew/recipe/view/3837/bells-two-hearted-c...   \n",
       "19      /homebrew/recipe/view/1435/new-glarus-fat-squi...   \n",
       "20      /homebrew/recipe/view/363082/avg-perfect-north...   \n",
       "21      /homebrew/recipe/view/28343/goose-island-ipa-c...   \n",
       "22      /homebrew/recipe/view/89253/ballast-point-scul...   \n",
       "23      /homebrew/recipe/view/190892/brooklyn-sorachi-ace   \n",
       "24        /homebrew/recipe/view/28344/lagunitas-ipa-clone   \n",
       "25      /homebrew/recipe/view/295897/neipa-hoppy-juicy...   \n",
       "26      /homebrew/recipe/view/190430/dale-s-pale-ale-c...   \n",
       "27      /homebrew/recipe/view/392896/ipa-tired-hands-m...   \n",
       "28      /homebrew/recipe/view/73376/bakke-brygg-julela...   \n",
       "29             /homebrew/recipe/view/35541/grapefruit-ipa   \n",
       "30      /homebrew/recipe/view/73679/bakke-brygg-robust...   \n",
       "31      /homebrew/recipe/view/209608/heineken-lager-clone   \n",
       "32                /homebrew/recipe/view/191545/mosaic-ipa   \n",
       "33           /homebrew/recipe/view/425217/new-england-ipa   \n",
       "34      /homebrew/recipe/view/401540/tree-house-julius...   \n",
       "35      /homebrew/recipe/view/189477/breck-vanilla-por...   \n",
       "36      /homebrew/recipe/view/61925/the-devil-is-in-th...   \n",
       "37            /homebrew/recipe/view/3984/cascade-pale-ale   \n",
       "38      /homebrew/recipe/view/272331/brewdog-punk-ipa-...   \n",
       "39         /homebrew/recipe/view/188995/rochefort-8-clone   \n",
       "40      /homebrew/recipe/view/322780/trillium-inspired...   \n",
       "41      /homebrew/recipe/view/318315/mango-blonde-ale-...   \n",
       "42      /homebrew/recipe/view/29831/strawberry-blonde-ale   \n",
       "43      /homebrew/recipe/view/5314/vanilla-caramel-cre...   \n",
       "44          /homebrew/recipe/view/20756/coors-light-clone   \n",
       "45      /homebrew/recipe/view/97267/samuel-adams-bosto...   \n",
       "46      /homebrew/recipe/view/26901/caribou-slobber-al...   \n",
       "47      /homebrew/recipe/view/83229/bakke-brygg-havres...   \n",
       "48                            /homebrew/recipe/view/5267/   \n",
       "49       /homebrew/recipe/view/189197/nugget-nectar-clone   \n",
       "50                          /homebrew/recipe/view/129004/   \n",
       "\n",
       "                                     Style  StyleID  Size(L)       OG      FG  \\\n",
       "BeerID                                                                          \n",
       "1                                Cream Ale       45    21.77   1.0550  1.0130   \n",
       "2       Holiday/Winter Special Spiced Beer       85    20.82   1.0830  1.0210   \n",
       "3                             American IPA        7    18.93   1.0630  1.0180   \n",
       "4                             American IPA        7    22.71   1.0610  1.0170   \n",
       "5                        Belgian Blond Ale       20    50.00   1.0600  1.0100   \n",
       "6                        American Pale Ale       10    24.61   1.0550  1.0130   \n",
       "7                             Imperial IPA       86    22.71   1.0720  1.0180   \n",
       "8                                Cream Ale       45    20.82   1.0540  1.0140   \n",
       "9                            Robust Porter      129    22.71   1.0600  1.0160   \n",
       "10                            Imperial IPA       86    20.82   1.0800  1.0170   \n",
       "11                            American IPA        7    25.00   1.0640  1.0140   \n",
       "12                            American IPA        7    15.14   1.0660  1.0150   \n",
       "13                            American IPA        7    20.82   1.0730  1.0190   \n",
       "14                            American IPA        7    18.93   1.0660  1.0170   \n",
       "15                            American IPA        7    37.85   1.0640  1.0170   \n",
       "16                       Bohemian Pilsener       31    41.64   1.0510  1.0130   \n",
       "17                                  Saison      134    20.82   1.0730  1.0150   \n",
       "18                            American IPA        7    20.82   1.0730  1.0180   \n",
       "19                  Northern English Brown      113    20.82   1.0460  1.0100   \n",
       "20                            American IPA        7    21.77   1.0620  1.0130   \n",
       "21                             English IPA       65    20.82   1.0650  1.0150   \n",
       "22                            Imperial IPA       86    45.42   1.0840  1.0200   \n",
       "23                                  Saison      134    18.93   1.0820  1.0130   \n",
       "24                             English IPA       65    20.82   1.0610  1.0140   \n",
       "25                            American IPA        7    21.00   1.0620  1.0140   \n",
       "26                       American Pale Ale       10    18.93   1.0670  1.0170   \n",
       "27                            American IPA        7    24.61   1.0580  1.0170   \n",
       "28                        Traditional Bock      163    20.00   1.0650  1.0180   \n",
       "29                            American IPA        7    26.50   1.0520  1.0120   \n",
       "30                           Robust Porter      129    50.00   1.0580  1.0140   \n",
       "31                  Premium American Lager      124    48.00   1.0490  1.0080   \n",
       "32                            American IPA        7    18.93   1.0740  1.0180   \n",
       "33                            American IPA        7    19.87   1.0710  1.0180   \n",
       "34                            American IPA        7    20.82   1.0650  1.0180   \n",
       "35                           Robust Porter      129    22.71   1.0530  1.0120   \n",
       "36               Belgian Golden Strong Ale       23    41.64   1.0690  1.0050   \n",
       "37                       American Pale Ale       10    20.82   1.0490  1.0090   \n",
       "38                            American IPA        7    46.00  13.9618  3.4853   \n",
       "39                                     NaN      111    18.93   1.0790  1.0190   \n",
       "40                              Double IPA       56    20.82   1.0700  1.0150   \n",
       "41                              Blonde Ale       30    22.71   1.0430  1.0070   \n",
       "42                              Blonde Ale       30    18.93   1.0600  1.0160   \n",
       "43                               Cream Ale       45    18.93   1.0550  1.0140   \n",
       "44                    Light American Lager      100    20.82   1.0360  1.0080   \n",
       "45                   German Pilsner (Pils)       81    20.82   1.0500  1.0130   \n",
       "46                      American Brown Ale        6    22.71   1.0560  1.0140   \n",
       "47                           Oatmeal Stout      114    20.00   1.0590  1.0190   \n",
       "48                          Specialty Beer      145    20.82   1.0960  1.0240   \n",
       "49                      American Amber Ale        4    18.93   1.0750  1.0090   \n",
       "50                                  Kölsch       94    20.00   1.0460  1.0090   \n",
       "\n",
       "         ABV     IBU  Color  BoilSize  BoilTime  BoilGravity  Efficiency  \\\n",
       "BeerID                                                                     \n",
       "1       5.48   17.65   4.83     28.39        75        1.038        70.0   \n",
       "2       8.16   60.65  15.64     24.61        60        1.070        70.0   \n",
       "3       5.91   59.25   8.98     22.71        60          NaN        70.0   \n",
       "4       5.80   54.48   8.50     26.50        60          NaN        70.0   \n",
       "5       6.48   17.84   4.57     60.00        90        1.050        72.0   \n",
       "6       5.58   40.12   8.00     29.34        70        1.047        79.0   \n",
       "7       7.09  268.71   6.33     30.28        90          NaN        75.0   \n",
       "8       5.36   19.97   5.94     28.39        75        1.040        70.0   \n",
       "9       5.77   31.63  34.76     30.28        75        1.042        73.0   \n",
       "10      8.22   93.02   8.29     28.39        60        1.058        70.0   \n",
       "11      6.63   64.26   7.78     29.00        90        1.055        74.0   \n",
       "12      6.62  111.00  14.26     11.36        90          NaN        70.0   \n",
       "13      7.07   69.72   6.28     28.39        60          NaN        70.0   \n",
       "14      6.51   60.96  10.54     11.36        60        1.110        30.0   \n",
       "15      6.20   64.67   3.91     34.07        60        1.071        70.0   \n",
       "16      4.92   36.80   3.61     49.21        60          NaN        75.0   \n",
       "17      7.63   44.94   6.25     28.39        60        1.054        70.0   \n",
       "18      7.14   61.83   8.10     24.61        60        1.061        75.0   \n",
       "19      4.61   13.64  12.56     28.39        90        1.033        70.0   \n",
       "20      6.50   53.30   5.20     28.39        60        1.048        70.0   \n",
       "21      6.63   55.52   9.47     28.39        60        1.048        75.0   \n",
       "22      8.43   79.28   6.26     51.10        60        1.075        90.0   \n",
       "23      9.10    0.00   4.10     21.58        60          NaN        72.0   \n",
       "24      6.17   56.65   5.85     28.39        60        1.045        75.0   \n",
       "25      6.29   53.57   5.21     25.00        70        1.052        73.0   \n",
       "26      6.60    0.00  11.69     18.93        60          NaN        75.0   \n",
       "27      5.34   57.84   3.98     28.39        60        1.050        83.0   \n",
       "28      6.22   27.12  16.66     25.00        90        1.052        70.0   \n",
       "29      5.31   60.58   5.82     32.18        60        1.043        70.0   \n",
       "30      5.76   39.00  38.71     58.00        60        1.050        71.0   \n",
       "31      5.41   24.28   3.30     60.00        90        1.039        75.0   \n",
       "32      7.24    0.00   7.68     22.71        60          NaN        75.0   \n",
       "33      6.93   68.91   6.82     28.39        60        1.050        72.0   \n",
       "34      6.26   89.61   6.93     28.39        60        1.045        70.0   \n",
       "35      5.38    0.00  46.10     31.95        60          NaN        72.0   \n",
       "36      8.40   40.71   3.11     49.21        90        1.058        80.0   \n",
       "37      5.24   40.86   3.79     26.50        60          NaN        75.0   \n",
       "38      5.65   37.62   4.96     55.00        90       11.800        75.0   \n",
       "39      7.90    0.00  29.40     24.26        60          NaN        65.0   \n",
       "40      7.22   78.14   5.67     26.50        60        1.050        60.0   \n",
       "41      4.70   19.68   3.82     28.16        90        1.035        75.0   \n",
       "42      5.83   27.15   5.18     13.25        60          NaN        35.0   \n",
       "43      5.43   33.67  10.08     15.14        60          NaN        70.0   \n",
       "44      3.70   29.37   2.83     11.36        60          NaN        70.0   \n",
       "45      4.93   43.66   9.89     13.25        60        1.079        70.0   \n",
       "46      5.57   35.32  20.59     30.28        60        1.042        80.0   \n",
       "47      5.21   37.34  42.09     24.00        90        1.049        75.0   \n",
       "48      9.48  112.51  40.00     11.36        60          NaN        30.0   \n",
       "49      7.50    0.00   8.48     22.71        90          NaN        70.0   \n",
       "50      4.84   23.22   2.85     25.00        90        1.037        73.0   \n",
       "\n",
       "        MashThickness        SugarScale    BrewMethod  PitchRate  PrimaryTemp  \\\n",
       "BeerID                                                                          \n",
       "1                 NaN  Specific Gravity     All Grain        NaN        17.78   \n",
       "2                 NaN  Specific Gravity     All Grain        NaN          NaN   \n",
       "3                 NaN  Specific Gravity       extract        NaN          NaN   \n",
       "4                 NaN  Specific Gravity     All Grain        NaN          NaN   \n",
       "5                 NaN  Specific Gravity     All Grain        NaN        19.00   \n",
       "6                 NaN  Specific Gravity     All Grain       1.00          NaN   \n",
       "7                 NaN  Specific Gravity     All Grain        NaN          NaN   \n",
       "8                1.40  Specific Gravity     All Grain        NaN          NaN   \n",
       "9                 NaN  Specific Gravity     All Grain        NaN          NaN   \n",
       "10                NaN  Specific Gravity     All Grain        NaN        21.11   \n",
       "11                NaN  Specific Gravity     All Grain       1.00        18.00   \n",
       "12                NaN  Specific Gravity          BIAB        NaN          NaN   \n",
       "13                NaN  Specific Gravity     All Grain        NaN          NaN   \n",
       "14                NaN  Specific Gravity       extract       0.35        18.33   \n",
       "15               1.20  Specific Gravity     All Grain        NaN          NaN   \n",
       "16                NaN  Specific Gravity     All Grain        NaN          NaN   \n",
       "17                NaN  Specific Gravity          BIAB        NaN          NaN   \n",
       "18                NaN  Specific Gravity     All Grain       0.75        18.33   \n",
       "19                NaN  Specific Gravity     All Grain        NaN        16.67   \n",
       "20               1.25  Specific Gravity     All Grain        NaN          NaN   \n",
       "21               1.50  Specific Gravity     All Grain        NaN        17.78   \n",
       "22               1.25  Specific Gravity     All Grain       1.00        20.56   \n",
       "23                NaN  Specific Gravity     All Grain        NaN          NaN   \n",
       "24                NaN  Specific Gravity     All Grain        NaN          NaN   \n",
       "25                NaN  Specific Gravity          BIAB       0.75        20.00   \n",
       "26                NaN  Specific Gravity     All Grain        NaN          NaN   \n",
       "27                NaN  Specific Gravity          BIAB       0.50        18.33   \n",
       "28                NaN  Specific Gravity     All Grain        NaN        10.00   \n",
       "29               1.30  Specific Gravity     All Grain       0.75        20.56   \n",
       "30                NaN  Specific Gravity     All Grain        NaN        18.00   \n",
       "31               2.50  Specific Gravity     All Grain       1.50        11.00   \n",
       "32                NaN  Specific Gravity     All Grain        NaN          NaN   \n",
       "33               1.50  Specific Gravity     All Grain       1.00        20.00   \n",
       "34               1.32  Specific Gravity     All Grain       0.50        20.56   \n",
       "35                NaN  Specific Gravity     All Grain        NaN          NaN   \n",
       "36               1.50  Specific Gravity     All Grain       1.00        17.78   \n",
       "37                NaN  Specific Gravity     All Grain        NaN          NaN   \n",
       "38               3.30             Plato     All Grain       1.00        18.00   \n",
       "39                NaN  Specific Gravity     All Grain        NaN          NaN   \n",
       "40               1.30  Specific Gravity     All Grain       1.00        17.78   \n",
       "41                NaN  Specific Gravity          BIAB        NaN        16.67   \n",
       "42                NaN  Specific Gravity       extract        NaN          NaN   \n",
       "43                NaN  Specific Gravity       extract        NaN          NaN   \n",
       "44                NaN  Specific Gravity       extract        NaN          NaN   \n",
       "45                NaN  Specific Gravity  Partial Mash       1.50        10.00   \n",
       "46                NaN  Specific Gravity          BIAB       1.00        19.44   \n",
       "47                NaN  Specific Gravity     All Grain        NaN        19.00   \n",
       "48                NaN  Specific Gravity       extract        NaN          NaN   \n",
       "49                NaN  Specific Gravity     All Grain        NaN          NaN   \n",
       "50                NaN  Specific Gravity          BIAB       1.25        16.00   \n",
       "\n",
       "                     PrimingMethod       PrimingAmount   UserId  \n",
       "BeerID                                                           \n",
       "1                       corn sugar              4.5 oz    116.0  \n",
       "2                              NaN                 NaN    955.0  \n",
       "3                              NaN                 NaN      NaN  \n",
       "4                              NaN                 NaN      NaN  \n",
       "5                       Sukkerlake      6-7 g sukker/l  18325.0  \n",
       "6                              NaN                 NaN   5889.0  \n",
       "7                              NaN                 NaN   1051.0  \n",
       "8                       corn sugar              4.2 oz    116.0  \n",
       "9                       corn sugar                4 oz    116.0  \n",
       "10                      Corn Sugar      4.6 oz / .66 C      NaN  \n",
       "11                      Sukkerlake      6 5 g sukker/L  18325.0  \n",
       "12                             NaN                 NaN      NaN  \n",
       "13                             NaN                 NaN      NaN  \n",
       "14                             NaN                 NaN  23595.0  \n",
       "15                             NaN                 NaN      NaN  \n",
       "16                             NaN                 NaN      NaN  \n",
       "17                      Corn Sugar                 4oz   5100.0  \n",
       "18                             NaN                 NaN    955.0  \n",
       "19                   Priming Sugar         Std (5 Oz.)      NaN  \n",
       "20               Keg - Force Carb.                 NaN      NaN  \n",
       "21                             NaN                 NaN   5889.0  \n",
       "22                             NaN                 NaN  20984.0  \n",
       "23                             NaN                 NaN      NaN  \n",
       "24                             NaN                 NaN   5889.0  \n",
       "25                             NaN                 NaN  54364.0  \n",
       "26                             NaN                 NaN      NaN  \n",
       "27                             NaN                 NaN  16332.0  \n",
       "28                      Sukkerlake  6 gram sukker pr l  18325.0  \n",
       "29                             NaN                 NaN      NaN  \n",
       "30                      Sukkerlake      5 5 g sukker/l  18325.0  \n",
       "31                             NaN                 NaN  40623.0  \n",
       "32                             NaN                 NaN  35054.0  \n",
       "33                             NaN                 NaN  25649.0  \n",
       "34                             NaN                 NaN      NaN  \n",
       "35                             NaN                 NaN      NaN  \n",
       "36                      Force Carb              30 PSI  15241.0  \n",
       "37                             NaN                 NaN      NaN  \n",
       "38                      Force carb                 NaN      NaN  \n",
       "39                             NaN                 NaN      NaN  \n",
       "40              Forced Carbonation                 NaN  50283.0  \n",
       "41                             NaN                 NaN  56565.0  \n",
       "42                             NaN                 NaN      NaN  \n",
       "43                             NaN                 NaN      NaN  \n",
       "44                             NaN                 NaN      NaN  \n",
       "45      DME boiled in 2 cups water             6.50 oz  20681.0  \n",
       "46                             NaN                 NaN   5889.0  \n",
       "47                      Sukkerlake        5 g sukker/l  18325.0  \n",
       "48                      Corn Sugar           118 grams   1116.0  \n",
       "49                             NaN                 NaN      NaN  \n",
       "50                             NaN                 NaN  18325.0  "
      ]
     },
     "execution_count": 8,
     "metadata": {},
     "output_type": "execute_result"
    }
   ],
   "source": [
    "## shape of original dataframe\n",
    "df.head(50)"
   ]
  },
  {
   "cell_type": "markdown",
   "metadata": {
    "id": "20km7CSJKY4m"
   },
   "source": [
    "to see how many NULL values there are, we rely on `df.isnull()` from Pandas. This assumes that we have \"mapped\" all possible forms of NULL values to `NaN` when we loaded the dataset, i.e. using\n",
    "`pd.read_csv(\"...\", na_values = ['N/A'])` (See above)"
   ]
  },
  {
   "cell_type": "code",
   "execution_count": 11,
   "metadata": {
    "colab": {
     "base_uri": "https://localhost:8080/"
    },
    "executionInfo": {
     "elapsed": 243,
     "status": "ok",
     "timestamp": 1635869591197,
     "user": {
      "displayName": "Paolo Missier",
      "photoUrl": "https://lh3.googleusercontent.com/a-/AOh14Ggcc2TXNOmjMRwVVYvhyQe5KcOE45NLW7tO1c1RPd4=s64",
      "userId": "11873010985329943372"
     },
     "user_tz": 0
    },
    "id": "iNrZVylqKBTy",
    "outputId": "fdad423d-5fc5-4967-8fdb-ea7024b3238d"
   },
   "outputs": [
    {
     "name": "stdout",
     "output_type": "stream",
     "text": [
      "(73861, 22)\n"
     ]
    },
    {
     "data": {
      "text/plain": [
       "Name                 1\n",
       "URL                  0\n",
       "Style              596\n",
       "StyleID              0\n",
       "Size(L)              0\n",
       "OG                   0\n",
       "FG                   0\n",
       "ABV                  0\n",
       "IBU                  0\n",
       "Color                0\n",
       "BoilSize             0\n",
       "BoilTime             0\n",
       "BoilGravity       2990\n",
       "Efficiency           0\n",
       "MashThickness    29864\n",
       "SugarScale           0\n",
       "BrewMethod           0\n",
       "PitchRate        39252\n",
       "PrimaryTemp      22662\n",
       "PrimingMethod    67095\n",
       "PrimingAmount    69087\n",
       "UserId           50490\n",
       "dtype: int64"
      ]
     },
     "execution_count": 11,
     "metadata": {},
     "output_type": "execute_result"
    }
   ],
   "source": [
    "print(df.shape)\n",
    "## using isNull()\n",
    "df.isnull().sum()"
   ]
  },
  {
   "cell_type": "markdown",
   "metadata": {
    "id": "k3bomQ0MQOE9"
   },
   "source": [
    "### next, we employ the [`missingno`](https://github.com/ResidentMario/missingno) library to further analyse missing data\n",
    "\n",
    "First we look at a matrix of missing data per record and per column -- here we take a random sample of 500 records"
   ]
  },
  {
   "cell_type": "code",
   "execution_count": 12,
   "metadata": {
    "colab": {
     "base_uri": "https://localhost:8080/",
     "height": 708
    },
    "executionInfo": {
     "elapsed": 1094,
     "status": "ok",
     "timestamp": 1635869593440,
     "user": {
      "displayName": "Paolo Missier",
      "photoUrl": "https://lh3.googleusercontent.com/a-/AOh14Ggcc2TXNOmjMRwVVYvhyQe5KcOE45NLW7tO1c1RPd4=s64",
      "userId": "11873010985329943372"
     },
     "user_tz": 0
    },
    "id": "go_JiwE9QNLq",
    "outputId": "ff9c1070-e8fd-42b3-8e73-775fe4507196"
   },
   "outputs": [
    {
     "data": {
      "text/plain": [
       "<AxesSubplot:>"
      ]
     },
     "execution_count": 12,
     "metadata": {},
     "output_type": "execute_result"
    },
    {
     "data": {
      "image/png": "[encoded data removed]",
      "text/plain": [
       "<Figure size 1800x720 with 2 Axes>"
      ]
     },
     "metadata": {
      "needs_background": "light"
     },
     "output_type": "display_data"
    }
   ],
   "source": [
    "%matplotlib inline\n",
    "msno.matrix(df.sample(500, random_state=32))"
   ]
  },
  {
   "cell_type": "markdown",
   "metadata": {
    "id": "d3nT9IapKFLS"
   },
   "source": [
    "next, we plot a barchart to dsisplay missingness for each column"
   ]
  },
  {
   "cell_type": "code",
   "execution_count": 13,
   "metadata": {
    "colab": {
     "base_uri": "https://localhost:8080/",
     "height": 736
    },
    "executionInfo": {
     "elapsed": 2072,
     "status": "ok",
     "timestamp": 1635869596573,
     "user": {
      "displayName": "Paolo Missier",
      "photoUrl": "https://lh3.googleusercontent.com/a-/AOh14Ggcc2TXNOmjMRwVVYvhyQe5KcOE45NLW7tO1c1RPd4=s64",
      "userId": "11873010985329943372"
     },
     "user_tz": 0
    },
    "id": "hC7EiloOS_m-",
    "outputId": "caea10d7-9454-4320-8a99-3bca4399c95f"
   },
   "outputs": [
    {
     "data": {
      "text/plain": [
       "<AxesSubplot:>"
      ]
     },
     "execution_count": 13,
     "metadata": {},
     "output_type": "execute_result"
    },
    {
     "data": {
      "image/png": "[encoded data removed]",
      "text/plain": [
       "<Figure size 1800x720 with 3 Axes>"
      ]
     },
     "metadata": {
      "needs_background": "light"
     },
     "output_type": "display_data"
    }
   ],
   "source": [
    "%matplotlib inline\n",
    "msno.bar(df.sample(500, random_state=32))"
   ]
  },
  {
   "cell_type": "markdown",
   "metadata": {
    "id": "CPqUkxB6FeJP"
   },
   "source": [
    "### if we decided to remove all records with at least one null value, the result would be a very small training set:"
   ]
  },
  {
   "cell_type": "code",
   "execution_count": 31,
   "metadata": {
    "colab": {
     "base_uri": "https://localhost:8080/"
    },
    "executionInfo": {
     "elapsed": 252,
     "status": "ok",
     "timestamp": 1635869598681,
     "user": {
      "displayName": "Paolo Missier",
      "photoUrl": "https://lh3.googleusercontent.com/a-/AOh14Ggcc2TXNOmjMRwVVYvhyQe5KcOE45NLW7tO1c1RPd4=s64",
      "userId": "11873010985329943372"
     },
     "user_tz": 0
    },
    "id": "OA4wp7YmFeJP",
    "outputId": "b949a498-2fae-4c1d-a551-1dc42c1bf3c6"
   },
   "outputs": [
    {
     "data": {
      "text/plain": [
       "(73861, 757)"
      ]
     },
     "execution_count": 31,
     "metadata": {},
     "output_type": "execute_result"
    }
   ],
   "source": [
    "len(df), len(df.dropna())"
   ]
  },
  {
   "cell_type": "markdown",
   "metadata": {
    "id": "OnDf4k5IPGxA"
   },
   "source": [
    "### can we do better?"
   ]
  },
  {
   "cell_type": "markdown",
   "metadata": {
    "id": "pW1fCpufFeJQ"
   },
   "source": [
    "### the next simple idea is to only remove columns with too many nulls --- we will not be able to impute or otherwise use them for modelling. As we can see from the chart and matrix above, `PrimingMethod` and `PrimingAmount` are too sparse to be used. \n",
    "check that we are left with 20 columns\n"
   ]
  },
  {
   "cell_type": "code",
   "execution_count": 32,
   "metadata": {
    "colab": {
     "base_uri": "https://localhost:8080/"
    },
    "executionInfo": {
     "elapsed": 254,
     "status": "ok",
     "timestamp": 1635869601456,
     "user": {
      "displayName": "Paolo Missier",
      "photoUrl": "https://lh3.googleusercontent.com/a-/AOh14Ggcc2TXNOmjMRwVVYvhyQe5KcOE45NLW7tO1c1RPd4=s64",
      "userId": "11873010985329943372"
     },
     "user_tz": 0
    },
    "id": "e7o7NrXtFeJQ",
    "outputId": "1f2d0054-671d-4351-a580-4318543dbe33"
   },
   "outputs": [
    {
     "data": {
      "text/plain": [
       "(22, 20)"
      ]
     },
     "execution_count": 32,
     "metadata": {},
     "output_type": "execute_result"
    }
   ],
   "source": [
    "df.shape[1], df.drop(['PrimingMethod', 'PrimingAmount'], axis='columns').shape[1]"
   ]
  },
  {
   "cell_type": "markdown",
   "metadata": {
    "id": "CGdOKKOoFeJQ"
   },
   "source": [
    "### ``MashThickness`` contains nearly 30k null values  out of 74K records\n",
    "\n",
    "### here we simply replace all of them with the mean of the available values, and check that we no longer have any nulls"
   ]
  },
  {
   "cell_type": "code",
   "execution_count": 33,
   "metadata": {
    "colab": {
     "base_uri": "https://localhost:8080/"
    },
    "executionInfo": {
     "elapsed": 257,
     "status": "ok",
     "timestamp": 1635869617640,
     "user": {
      "displayName": "Paolo Missier",
      "photoUrl": "https://lh3.googleusercontent.com/a-/AOh14Ggcc2TXNOmjMRwVVYvhyQe5KcOE45NLW7tO1c1RPd4=s64",
      "userId": "11873010985329943372"
     },
     "user_tz": 0
    },
    "id": "YG-UoDSKFeJR",
    "outputId": "993989c4-910d-4cce-a7af-778819fa933b"
   },
   "outputs": [
    {
     "data": {
      "text/plain": [
       "(29864, 0)"
      ]
     },
     "execution_count": 33,
     "metadata": {},
     "output_type": "execute_result"
    }
   ],
   "source": [
    "df['MashThickness'].isnull().sum(), df['MashThickness'].fillna(df['MashThickness'].mean()).isnull().sum()"
   ]
  },
  {
   "cell_type": "markdown",
   "metadata": {
    "id": "LURPJ2Z8FeJR"
   },
   "source": [
    "### naturally, the mean across the column has not changed"
   ]
  },
  {
   "cell_type": "code",
   "execution_count": 34,
   "metadata": {
    "colab": {
     "base_uri": "https://localhost:8080/"
    },
    "executionInfo": {
     "elapsed": 228,
     "status": "ok",
     "timestamp": 1635869634045,
     "user": {
      "displayName": "Paolo Missier",
      "photoUrl": "https://lh3.googleusercontent.com/a-/AOh14Ggcc2TXNOmjMRwVVYvhyQe5KcOE45NLW7tO1c1RPd4=s64",
      "userId": "11873010985329943372"
     },
     "user_tz": 0
    },
    "id": "iVmwjigSFeJS",
    "outputId": "0688d7a5-184b-4300-8b6e-cd97dea9d70b"
   },
   "outputs": [
    {
     "data": {
      "text/plain": [
       "(2.1272352339932605, 2.127235233992244)"
      ]
     },
     "execution_count": 34,
     "metadata": {},
     "output_type": "execute_result"
    }
   ],
   "source": [
    "df['MashThickness'].mean(), df['MashThickness'].fillna(df['MashThickness'].mean()).mean()"
   ]
  },
  {
   "cell_type": "markdown",
   "metadata": {
    "id": "yNJ0-5ICM-gu"
   },
   "source": [
    "however, we should be aware that we have now reduced the variance. This makes for a training set that is both less realistic and also less useful\n"
   ]
  },
  {
   "cell_type": "code",
   "execution_count": 35,
   "metadata": {
    "colab": {
     "base_uri": "https://localhost:8080/"
    },
    "executionInfo": {
     "elapsed": 236,
     "status": "ok",
     "timestamp": 1635869642612,
     "user": {
      "displayName": "Paolo Missier",
      "photoUrl": "https://lh3.googleusercontent.com/a-/AOh14Ggcc2TXNOmjMRwVVYvhyQe5KcOE45NLW7tO1c1RPd4=s64",
      "userId": "11873010985329943372"
     },
     "user_tz": 0
    },
    "id": "pcZkGEdTNP7R",
    "outputId": "4988943c-4953-450b-d884-0d48dad4edff"
   },
   "outputs": [
    {
     "data": {
      "text/plain": [
       "(1.682347279063175, 1.2984271713674782)"
      ]
     },
     "execution_count": 35,
     "metadata": {},
     "output_type": "execute_result"
    }
   ],
   "source": [
    "df['MashThickness'].std(), df['MashThickness'].fillna(df['MashThickness'].mean()).std()"
   ]
  },
  {
   "cell_type": "markdown",
   "metadata": {
    "id": "1XYafzWmFeJS"
   },
   "source": [
    "## imputation by multivariate regression\n",
    "\n",
    "### now we consider a more sophisticated approach:\n",
    "\n",
    "### we use the remaining columns as features to train a regression model where ``MashThickness`` is the outcome, and we use the model's prediction to impute the missing values\n",
    "\n",
    "### the plan is to use the values in columns:\n",
    "\n",
    "### [``Style``, ``BoilGravity``, ``BrewMethod``, ``SugarScale``]\n",
    "\n",
    "### to predict the missing values in ``MashThickness``"
   ]
  },
  {
   "cell_type": "markdown",
   "metadata": {
    "id": "TY1zckV0FeJT"
   },
   "source": [
    "## preprocessing"
   ]
  },
  {
   "cell_type": "markdown",
   "metadata": {
    "id": "jdJBXVf9FeJT"
   },
   "source": [
    "### first we perform a one-hot encoding of the categorical variable ``Style`` "
   ]
  },
  {
   "cell_type": "code",
   "execution_count": 36,
   "metadata": {
    "executionInfo": {
     "elapsed": 254,
     "status": "ok",
     "timestamp": 1635869650645,
     "user": {
      "displayName": "Paolo Missier",
      "photoUrl": "https://lh3.googleusercontent.com/a-/AOh14Ggcc2TXNOmjMRwVVYvhyQe5KcOE45NLW7tO1c1RPd4=s64",
      "userId": "11873010985329943372"
     },
     "user_tz": 0
    },
    "id": "XLdjrnDDFeJT"
   },
   "outputs": [],
   "source": [
    "beer_Style_encoded = (pd.get_dummies(df['Style']))"
   ]
  },
  {
   "cell_type": "markdown",
   "metadata": {
    "id": "8SXQ9O0vFeJT"
   },
   "source": [
    "### next we create a list of the beer styles that occur in more than 10% of the dataset"
   ]
  },
  {
   "cell_type": "code",
   "execution_count": 37,
   "metadata": {
    "executionInfo": {
     "elapsed": 222,
     "status": "ok",
     "timestamp": 1635869652776,
     "user": {
      "displayName": "Paolo Missier",
      "photoUrl": "https://lh3.googleusercontent.com/a-/AOh14Ggcc2TXNOmjMRwVVYvhyQe5KcOE45NLW7tO1c1RPd4=s64",
      "userId": "11873010985329943372"
     },
     "user_tz": 0
    },
    "id": "f4wWf26bFeJT"
   },
   "outputs": [],
   "source": [
    "frequent_styles = beer_Style_encoded.sum(axis='rows') > (len(df) / 100)"
   ]
  },
  {
   "cell_type": "code",
   "execution_count": 38,
   "metadata": {
    "colab": {
     "base_uri": "https://localhost:8080/"
    },
    "executionInfo": {
     "elapsed": 327,
     "status": "ok",
     "timestamp": 1635869655255,
     "user": {
      "displayName": "Paolo Missier",
      "photoUrl": "https://lh3.googleusercontent.com/a-/AOh14Ggcc2TXNOmjMRwVVYvhyQe5KcOE45NLW7tO1c1RPd4=s64",
      "userId": "11873010985329943372"
     },
     "user_tz": 0
    },
    "id": "YmZz1gUtFeJU",
    "outputId": "a419d6ca-0f5c-4a91-f0f7-da93604e175f"
   },
   "outputs": [
    {
     "data": {
      "text/plain": [
       "array(['American Amber Ale', 'American Brown Ale', 'American IPA',\n",
       "       'American Light Lager', 'American Pale Ale', 'American Porter',\n",
       "       'American Stout', 'Blonde Ale', 'California Common Beer',\n",
       "       'Cream Ale', 'Double IPA', 'English IPA', 'Imperial IPA',\n",
       "       'Irish Red Ale', 'Kölsch', 'Oatmeal Stout', 'Robust Porter',\n",
       "       'Russian Imperial Stout', 'Saison', 'Sweet Stout', 'Weissbier',\n",
       "       'Weizen/Weissbier', 'Witbier'], dtype=object)"
      ]
     },
     "execution_count": 38,
     "metadata": {},
     "output_type": "execute_result"
    }
   ],
   "source": [
    "## this is a just trick to turn all the False values into NaN, then remove the records with those NaN values.\n",
    "## this leaves us with an array of the most popular beer styles\n",
    "\n",
    "popular_beer_styles = frequent_styles.where(lambda v: v).dropna().index.values\n",
    "popular_beer_styles"
   ]
  },
  {
   "cell_type": "markdown",
   "metadata": {
    "id": "9d4D9dI9FeJU"
   },
   "source": [
    "### now we drop columns that we are not going to use for modelling"
   ]
  },
  {
   "cell_type": "code",
   "execution_count": 39,
   "metadata": {
    "colab": {
     "base_uri": "https://localhost:8080/"
    },
    "executionInfo": {
     "elapsed": 226,
     "status": "ok",
     "timestamp": 1635869675388,
     "user": {
      "displayName": "Paolo Missier",
      "photoUrl": "https://lh3.googleusercontent.com/a-/AOh14Ggcc2TXNOmjMRwVVYvhyQe5KcOE45NLW7tO1c1RPd4=s64",
      "userId": "11873010985329943372"
     },
     "user_tz": 0
    },
    "id": "i36TC6m9FeJU",
    "outputId": "3a09779f-a856-4721-ccad-3236ab97306e"
   },
   "outputs": [
    {
     "name": "stdout",
     "output_type": "stream",
     "text": [
      "Index(['Style', 'Size(L)', 'OG', 'FG', 'ABV', 'IBU', 'Color', 'BoilSize',\n",
      "       'BoilTime', 'BoilGravity', 'Efficiency', 'MashThickness', 'SugarScale',\n",
      "       'BrewMethod'],\n",
      "      dtype='object')\n",
      "73861\n"
     ]
    }
   ],
   "source": [
    "dfc = (df.drop(['PrimingMethod', 'PrimingAmount', 'UserId', 'PitchRate', 'PrimaryTemp', 'StyleID', 'Name', 'URL'], axis='columns'))\n",
    "       \n",
    "print (dfc.columns)\n",
    "print(len(dfc))"
   ]
  },
  {
   "cell_type": "markdown",
   "metadata": {
    "id": "DEfkTEaoFeJU"
   },
   "source": [
    "### drop all records where BoilGravity is null"
   ]
  },
  {
   "cell_type": "code",
   "execution_count": 40,
   "metadata": {
    "colab": {
     "base_uri": "https://localhost:8080/"
    },
    "executionInfo": {
     "elapsed": 228,
     "status": "ok",
     "timestamp": 1635869678012,
     "user": {
      "displayName": "Paolo Missier",
      "photoUrl": "https://lh3.googleusercontent.com/a-/AOh14Ggcc2TXNOmjMRwVVYvhyQe5KcOE45NLW7tO1c1RPd4=s64",
      "userId": "11873010985329943372"
     },
     "user_tz": 0
    },
    "id": "ZZ7xolmNFeJV",
    "outputId": "2197534c-38be-433f-d4b3-4a2d2c635fac"
   },
   "outputs": [
    {
     "data": {
      "text/plain": [
       "70871"
      ]
     },
     "execution_count": 40,
     "metadata": {},
     "output_type": "execute_result"
    }
   ],
   "source": [
    "dfc = dfc.dropna(subset=['BoilGravity'])\n",
    "\n",
    "len(dfc)"
   ]
  },
  {
   "cell_type": "markdown",
   "metadata": {
    "id": "FS_YUUrlFeJV"
   },
   "source": [
    "### the rest of this prep code performs one-hot encoding of the remaining categorical variables `BrewMethod`, `SugarScale`\n",
    "### note that these columns are then removed along with ``Style`` as they are replaced by the corresponding binary columns"
   ]
  },
  {
   "cell_type": "code",
   "execution_count": 41,
   "metadata": {
    "executionInfo": {
     "elapsed": 776,
     "status": "ok",
     "timestamp": 1635869679587,
     "user": {
      "displayName": "Paolo Missier",
      "photoUrl": "https://lh3.googleusercontent.com/a-/AOh14Ggcc2TXNOmjMRwVVYvhyQe5KcOE45NLW7tO1c1RPd4=s64",
      "userId": "11873010985329943372"
     },
     "user_tz": 0
    },
    "id": "_oXqE6ZLFeJV"
   },
   "outputs": [],
   "source": [
    "dfc = dfc.pipe(lambda df: df.join(pd.get_dummies(df['BrewMethod'], prefix='BrewMethod')) \\\n",
    "               .pipe(lambda df: df.join(pd.get_dummies(df['SugarScale'], prefix='SugarScale'))) \\\n",
    "               .pipe(lambda df: df.assign(Style=df['Style'].map(lambda s: s if s in popular_beer_styles else 'Other'))) \\\n",
    "               .pipe(lambda df: df.join(pd.get_dummies(df['Style'], prefix='Style'))) \\\n",
    "               .drop(['BrewMethod', 'SugarScale', 'Style'], axis='columns'))"
   ]
  },
  {
   "cell_type": "markdown",
   "metadata": {
    "id": "b4wp_ESdFeJV"
   },
   "source": [
    "### finally we prepare the training set from the resulting dataframe"
   ]
  },
  {
   "cell_type": "markdown",
   "metadata": {
    "id": "4f24sXjYFeJW"
   },
   "source": [
    "### ``c`` is a list of all the names of all columns except 'MashThickness'. which is our outcome\n",
    "### note that we now have many more columns than at the start, because of  the multiple encodings of the cat variables"
   ]
  },
  {
   "cell_type": "code",
   "execution_count": 42,
   "metadata": {
    "colab": {
     "base_uri": "https://localhost:8080/"
    },
    "executionInfo": {
     "elapsed": 5,
     "status": "ok",
     "timestamp": 1635869679587,
     "user": {
      "displayName": "Paolo Missier",
      "photoUrl": "https://lh3.googleusercontent.com/a-/AOh14Ggcc2TXNOmjMRwVVYvhyQe5KcOE45NLW7tO1c1RPd4=s64",
      "userId": "11873010985329943372"
     },
     "user_tz": 0
    },
    "id": "LeloGmHWFeJW",
    "outputId": "657b68a9-8434-4718-eaba-6b6b3444c793"
   },
   "outputs": [
    {
     "data": {
      "text/plain": [
       "['Size(L)',\n",
       " 'OG',\n",
       " 'FG',\n",
       " 'ABV',\n",
       " 'IBU',\n",
       " 'Color',\n",
       " 'BoilSize',\n",
       " 'BoilTime',\n",
       " 'BoilGravity',\n",
       " 'Efficiency',\n",
       " 'BrewMethod_All Grain',\n",
       " 'BrewMethod_BIAB',\n",
       " 'BrewMethod_Partial Mash',\n",
       " 'BrewMethod_extract',\n",
       " 'SugarScale_Plato',\n",
       " 'SugarScale_Specific Gravity',\n",
       " 'Style_American Amber Ale',\n",
       " 'Style_American Brown Ale',\n",
       " 'Style_American IPA',\n",
       " 'Style_American Light Lager',\n",
       " 'Style_American Pale Ale',\n",
       " 'Style_American Porter',\n",
       " 'Style_American Stout',\n",
       " 'Style_Blonde Ale',\n",
       " 'Style_California Common Beer',\n",
       " 'Style_Cream Ale',\n",
       " 'Style_Double IPA',\n",
       " 'Style_English IPA',\n",
       " 'Style_Imperial IPA',\n",
       " 'Style_Irish Red Ale',\n",
       " 'Style_Kölsch',\n",
       " 'Style_Oatmeal Stout',\n",
       " 'Style_Other',\n",
       " 'Style_Robust Porter',\n",
       " 'Style_Russian Imperial Stout',\n",
       " 'Style_Saison',\n",
       " 'Style_Sweet Stout',\n",
       " 'Style_Weissbier',\n",
       " 'Style_Weizen/Weissbier',\n",
       " 'Style_Witbier']"
      ]
     },
     "execution_count": 42,
     "metadata": {},
     "output_type": "execute_result"
    }
   ],
   "source": [
    "c = [c for c in dfc.columns if c != 'MashThickness']\n",
    "\n",
    "c"
   ]
  },
  {
   "cell_type": "markdown",
   "metadata": {
    "id": "PsyKMjwdFeJW"
   },
   "source": [
    "### X is a dataframe containing all the feature values: the rows are those where the value of ``MashThickness`` is not null, while the columns are all those listed above"
   ]
  },
  {
   "cell_type": "code",
   "execution_count": 43,
   "metadata": {
    "executionInfo": {
     "elapsed": 260,
     "status": "ok",
     "timestamp": 1635869681552,
     "user": {
      "displayName": "Paolo Missier",
      "photoUrl": "https://lh3.googleusercontent.com/a-/AOh14Ggcc2TXNOmjMRwVVYvhyQe5KcOE45NLW7tO1c1RPd4=s64",
      "userId": "11873010985329943372"
     },
     "user_tz": 0
    },
    "id": "vyGzKb_7FeJW"
   },
   "outputs": [],
   "source": [
    "X = dfc[dfc['MashThickness'].notnull()].loc[:, c].values"
   ]
  },
  {
   "cell_type": "markdown",
   "metadata": {
    "id": "lE5QEm_IFeJX"
   },
   "source": [
    "### ``y`` is a dataframe with all records where the value of ``MashThickness`` is not null, and the single ``MashThickness`` column\n",
    "### this provides the set of all labels for the training set"
   ]
  },
  {
   "cell_type": "code",
   "execution_count": 44,
   "metadata": {
    "colab": {
     "base_uri": "https://localhost:8080/"
    },
    "executionInfo": {
     "elapsed": 249,
     "status": "ok",
     "timestamp": 1635869683092,
     "user": {
      "displayName": "Paolo Missier",
      "photoUrl": "https://lh3.googleusercontent.com/a-/AOh14Ggcc2TXNOmjMRwVVYvhyQe5KcOE45NLW7tO1c1RPd4=s64",
      "userId": "11873010985329943372"
     },
     "user_tz": 0
    },
    "id": "MMOUV-40FeJX",
    "outputId": "d9ec09c3-c822-40c3-aa5e-f01c89deaa10"
   },
   "outputs": [
    {
     "data": {
      "text/plain": [
       "array([1.4 , 1.2 , 1.25, ..., 1.25, 3.  , 3.  ])"
      ]
     },
     "execution_count": 44,
     "metadata": {},
     "output_type": "execute_result"
    }
   ],
   "source": [
    "y = dfc[dfc['MashThickness'].notnull()]['MashThickness'].values\n",
    "y"
   ]
  },
  {
   "cell_type": "markdown",
   "metadata": {
    "id": "N9Hyni6pFeJY"
   },
   "source": [
    "### ``yy`` contains the records where the values of ``MashThickness`` must be predicted"
   ]
  },
  {
   "cell_type": "code",
   "execution_count": 45,
   "metadata": {
    "colab": {
     "base_uri": "https://localhost:8080/"
    },
    "executionInfo": {
     "elapsed": 217,
     "status": "ok",
     "timestamp": 1635869684391,
     "user": {
      "displayName": "Paolo Missier",
      "photoUrl": "https://lh3.googleusercontent.com/a-/AOh14Ggcc2TXNOmjMRwVVYvhyQe5KcOE45NLW7tO1c1RPd4=s64",
      "userId": "11873010985329943372"
     },
     "user_tz": 0
    },
    "id": "YeKv02b-FeJY",
    "outputId": "33e29f91-a255-485e-9e55-7e696c5ec594"
   },
   "outputs": [
    {
     "data": {
      "text/plain": [
       "array([nan, nan, nan, ..., nan, nan, nan])"
      ]
     },
     "execution_count": 45,
     "metadata": {},
     "output_type": "execute_result"
    }
   ],
   "source": [
    "yy = dfc[dfc['MashThickness'].isnull()]['MashThickness'].values\n",
    "yy"
   ]
  },
  {
   "cell_type": "markdown",
   "metadata": {
    "id": "Fo20uzXvFeJY"
   },
   "source": [
    "## Finally we are ready to train our _linear_ regression model using ``X`` and ``y``"
   ]
  },
  {
   "cell_type": "code",
   "execution_count": 46,
   "metadata": {
    "colab": {
     "base_uri": "https://localhost:8080/"
    },
    "executionInfo": {
     "elapsed": 939,
     "status": "ok",
     "timestamp": 1635869686501,
     "user": {
      "displayName": "Paolo Missier",
      "photoUrl": "https://lh3.googleusercontent.com/a-/AOh14Ggcc2TXNOmjMRwVVYvhyQe5KcOE45NLW7tO1c1RPd4=s64",
      "userId": "11873010985329943372"
     },
     "user_tz": 0
    },
    "id": "wGDb5WLzFeJY",
    "outputId": "5ef3655b-a7d8-4d15-edca-ba5d63d87d98"
   },
   "outputs": [
    {
     "name": "stdout",
     "output_type": "stream",
     "text": [
      "[0.012942533393265787, 0.009359944248067964, 0.00924054218885939, -0.0003957911766836464]\n"
     ]
    }
   ],
   "source": [
    "from sklearn.linear_model import LinearRegression\n",
    "from sklearn.model_selection import KFold\n",
    "from sklearn.metrics import r2_score\n",
    "import numpy as np\n",
    "\n",
    "np.random.seed(42)  ## this makes the model reproducible\n",
    "\n",
    "kf = KFold(n_splits=4)  ## for k-fold validation\n",
    "scores = []\n",
    "\n",
    "## generate K=4 models, one for each fold\n",
    "for train_index, test_index in kf.split(X):\n",
    "    X_train, X_test = X[train_index], X[test_index]\n",
    "    y_train, y_test = y[train_index], y[test_index]\n",
    "    \n",
    "    clf = LinearRegression()\n",
    "    clf.fit(X_train, y_train)\n",
    "    y_test_pred = clf.predict(X_test)\n",
    "    \n",
    "    scores.append(r2_score(y_test, y_test_pred))\n",
    "\n",
    "print(scores)"
   ]
  },
  {
   "cell_type": "markdown",
   "metadata": {
    "id": "eSW1Ua5oFeJZ"
   },
   "source": [
    "### the R2 values are very low, indicating that the model is very poor at predicting the missing values of `MashThickness`. \n",
    "\n",
    "### the following discussion is taken from the original blog entry (link at the top of thie notebook) and does a good job at explaining what conclusions we can draw from this exercise"
   ]
  },
  {
   "cell_type": "markdown",
   "metadata": {
    "id": "ZhyHKdU7FeJZ"
   },
   "source": [
    "> In this specific case the extremely low cross validation scores, all indistinguishable from 0, basically tells us that we've picked an impossible task: MashThickness cannot be determined with any accuracy from another of the other variables in the dataset (at least, if it can, then the relationship is non-linear—doubtful in this scenario). This cuts both ways, of course—if none of the variables in the dataset predict MashThickness, then MashThickness is useless for predicting anything any of them either!\n",
    "\n",
    "> Nevertheless, for more usefully correlated columns this template of using a model of some kind to impute the column values is highly useful and makes a lot of sense from a practitioner's perspecive."
   ]
  },
  {
   "cell_type": "markdown",
   "metadata": {
    "id": "a8vNPVaMZA0v"
   },
   "source": [
    "### to try and understand why the results are poor, we again use `missingno` to visulise a missingness correlation heatmap between each pair of columns.\n",
    "From the documentation:  _The missingno correlation heatmap measures nullity correlation: how strongly the presence or absence of one variable affects the presence of another_"
   ]
  },
  {
   "cell_type": "code",
   "execution_count": 47,
   "metadata": {
    "colab": {
     "base_uri": "https://localhost:8080/",
     "height": 810
    },
    "executionInfo": {
     "elapsed": 1174,
     "status": "ok",
     "timestamp": 1635869692284,
     "user": {
      "displayName": "Paolo Missier",
      "photoUrl": "https://lh3.googleusercontent.com/a-/AOh14Ggcc2TXNOmjMRwVVYvhyQe5KcOE45NLW7tO1c1RPd4=s64",
      "userId": "11873010985329943372"
     },
     "user_tz": 0
    },
    "id": "WUO3O2zTZNxa",
    "outputId": "07bde869-c7df-4611-9736-76de8cb1b73b"
   },
   "outputs": [
    {
     "data": {
      "text/plain": [
       "<matplotlib.axes._subplots.AxesSubplot at 0x7fd78a75aa50>"
      ]
     },
     "execution_count": 47,
     "metadata": {},
     "output_type": "execute_result"
    },
    {
     "data": {
      "image/png": "[encoded data removed]",
      "text/plain": [
       "<Figure size 1440x864 with 2 Axes>"
      ]
     },
     "metadata": {
      "needs_background": "light"
     },
     "output_type": "display_data"
    }
   ],
   "source": [
    "msno.heatmap(df)"
   ]
  },
  {
   "cell_type": "markdown",
   "metadata": {
    "id": "JjSO8nDva5mU"
   },
   "source": [
    "### finally, we can also use `missingo` to generate a dendogram, using a hierarchical clustering algorithm, where  _Cluster leaves which linked together at a distance of zero fully predict one another's presence—one variable might always be empty when another is filled, or they might always both be filled or both empty, and so on_"
   ]
  },
  {
   "cell_type": "code",
   "execution_count": 48,
   "metadata": {
    "colab": {
     "base_uri": "https://localhost:8080/",
     "height": 702
    },
    "executionInfo": {
     "elapsed": 1099,
     "status": "ok",
     "timestamp": 1635869696946,
     "user": {
      "displayName": "Paolo Missier",
      "photoUrl": "https://lh3.googleusercontent.com/a-/AOh14Ggcc2TXNOmjMRwVVYvhyQe5KcOE45NLW7tO1c1RPd4=s64",
      "userId": "11873010985329943372"
     },
     "user_tz": 0
    },
    "id": "QIo0qjcLZQZT",
    "outputId": "ac527fe6-9a5c-41cf-f969-daad5e66c6f1"
   },
   "outputs": [
    {
     "data": {
      "text/plain": [
       "<matplotlib.axes._subplots.AxesSubplot at 0x7fd787f79790>"
      ]
     },
     "execution_count": 48,
     "metadata": {},
     "output_type": "execute_result"
    },
    {
     "data": {
      "image/png": "[encoded data removed]",
      "text/plain": [
       "<Figure size 1800x720 with 1 Axes>"
      ]
     },
     "metadata": {
      "needs_background": "light"
     },
     "output_type": "display_data"
    }
   ],
   "source": [
    "msno.dendrogram(df)"
   ]
  },
  {
   "cell_type": "markdown",
   "metadata": {
    "id": "Ywg3FQGlcLAi"
   },
   "source": [
    "please see [this other notebook](https://github.com/PaoloMissier/CSC3831-2021-22/blob/main/IMPUTATION/KNN-iterativeImputer-example/KNN-Iterative-Beer.ipynb) for a continuation of this analysis, where KNN and MICE algorithms are used to improve our imputation."
   ]
  },
  {
   "cell_type": "code",
   "execution_count": null,
   "metadata": {
    "id": "P0ilHJoWbMMS"
   },
   "outputs": [],
   "source": []
  }
 ],
 "metadata": {
  "colab": {
   "name": "Copy of Beer-imputation-example.ipynb",
   "provenance": [
    {
     "file_id": "https://github.com/PaoloMissier/CSC3831-2021-22/blob/main/IMPUTATION/regression-example/Beer-imputation-example.ipynb",
     "timestamp": 1635865148355
    }
   ]
  },
  "kernelspec": {
   "display_name": "Python 3 (ipykernel)",
   "language": "python",
   "name": "python3"
  },
  "language_info": {
   "codemirror_mode": {
    "name": "ipython",
    "version": 3
   },
   "file_extension": ".py",
   "mimetype": "text/x-python",
   "name": "python",
   "nbconvert_exporter": "python",
   "pygments_lexer": "ipython3",
   "version": "3.9.0"
  }
 },
 "nbformat": 4,
 "nbformat_minor": 1
}
